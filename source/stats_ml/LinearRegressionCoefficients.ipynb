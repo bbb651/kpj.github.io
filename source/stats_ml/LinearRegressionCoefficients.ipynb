{
 "cells": [
  {
   "cell_type": "markdown",
   "metadata": {},
   "source": [
    "# Interpreting the coefficients of a linear regression\n",
    "\n",
    "A regression coefficient describes how much the response variable changes for a unit change of a covariate while all other covariates remain constant.\n",
    "\n",
    "In this notebook, we will deepen this intuition with a hands-on example."
   ]
  },
  {
   "cell_type": "code",
   "execution_count": null,
   "metadata": {},
   "outputs": [],
   "source": [
    "import numpy as np\n",
    "import pandas as pd\n",
    "\n",
    "import statsmodels.formula.api as smf\n",
    "\n",
    "import seaborn as sns\n",
    "import matplotlib.pyplot as plt"
   ]
  },
  {
   "cell_type": "code",
   "execution_count": null,
   "metadata": {},
   "outputs": [],
   "source": [
    "sns.set_context('poster')"
   ]
  },
  {
   "cell_type": "markdown",
   "metadata": {},
   "source": [
    "## Generate data\n",
    "\n",
    "We generate synthetic data using a form of structural equation modeling.\n",
    "This way, we can check whether we are able to recover the coefficients."
   ]
  },
  {
   "cell_type": "code",
   "execution_count": null,
   "id": "level-tourism",
   "metadata": {},
   "outputs": [],
   "source": [
    "N = 1000\n",
    "\n",
    "beta_g1 = 1.4\n",
    "beta_g2 = -0.8\n",
    "\n",
    "mean_g1 = -2\n",
    "mean_g2 = 10"
   ]
  },
  {
   "cell_type": "code",
   "execution_count": null,
   "id": "english-orchestra",
   "metadata": {},
   "outputs": [],
   "source": [
    "np.random.seed(42)\n",
    "\n",
    "X = np.random.normal(size=N * 2)\n",
    "Y = np.r_[\n",
    "    beta_g1 * X[: int(len(X) / 2)] + np.random.normal(mean_g1, size=N),\n",
    "    beta_g2 * X[int(len(X) / 2) :] + np.random.normal(mean_g2, size=N),\n",
    "]\n",
    "group = ['$G_1$'] * N + ['$G_2$'] * N"
   ]
  },
  {
   "cell_type": "code",
   "execution_count": null,
   "id": "unauthorized-contribution",
   "metadata": {},
   "outputs": [],
   "source": [
    "df = pd.DataFrame({'X': X, 'Y': Y, 'group': group})\n",
    "\n",
    "df['group'] = df['group'].astype('category')\n",
    "\n",
    "df.head()"
   ]
  },
  {
   "cell_type": "markdown",
   "metadata": {},
   "source": [
    "## Fit model\n",
    "\n",
    "The model:\n",
    "$$\n",
    "Y \\sim \\beta_0 + \\beta_1 \\cdot group + \\beta_2 \\cdot X + \\beta_3 \\cdot X \\cdot group\n",
    "$$"
   ]
  },
  {
   "cell_type": "code",
   "execution_count": null,
   "metadata": {},
   "outputs": [],
   "source": [
    "mod = smf.ols(formula='Y ~ X * group', data=df)\n",
    "fit = mod.fit()"
   ]
  },
  {
   "cell_type": "markdown",
   "metadata": {},
   "source": [
    "## Investigate result"
   ]
  },
  {
   "cell_type": "markdown",
   "metadata": {},
   "source": [
    "### Retrieve coefficients"
   ]
  },
  {
   "cell_type": "code",
   "execution_count": null,
   "metadata": {},
   "outputs": [],
   "source": [
    "res = fit.summary()\n",
    "res.tables[1]"
   ]
  },
  {
   "cell_type": "code",
   "execution_count": null,
   "metadata": {},
   "outputs": [],
   "source": [
    "coefs = fit.params\n",
    "coefs"
   ]
  },
  {
   "cell_type": "markdown",
   "metadata": {},
   "source": [
    "### Understand their meaning"
   ]
  },
  {
   "cell_type": "code",
   "execution_count": null,
   "metadata": {},
   "outputs": [],
   "source": [
    "fitted_beta_g1 = coefs['X']\n",
    "fitted_beta_g2 = coefs['X'] + coefs['X:group[T.$G_2$]']\n",
    "\n",
    "fitted_mean_g1 = coefs['Intercept']\n",
    "fitted_mean_g2 = coefs['Intercept'] + coefs['group[T.$G_2$]']"
   ]
  },
  {
   "cell_type": "code",
   "execution_count": null,
   "id": "marine-recipe",
   "metadata": {},
   "outputs": [],
   "source": [
    "pd.DataFrame(\n",
    "    {\n",
    "        'label': ['beta_g1', 'beta_g2', 'mean_g1', 'mean_g2'],\n",
    "        'true_value': [beta_g1, beta_g2, mean_g1, mean_g2],\n",
    "        'fitted_value': [\n",
    "            fitted_beta_g1,\n",
    "            fitted_beta_g2,\n",
    "            fitted_mean_g1,\n",
    "            fitted_mean_g2,\n",
    "        ],\n",
    "    }\n",
    ")"
   ]
  },
  {
   "cell_type": "code",
   "execution_count": null,
   "id": "built-mailing",
   "metadata": {},
   "outputs": [],
   "source": [
    "def annotate_plot(space, mean, beta, color):\n",
    "    values = mean + beta * space\n",
    "\n",
    "    ax.plot(space, values, color=color)\n",
    "    ax.axhline(mean, ls='dashed', color=color)\n",
    "\n",
    "    mid = len(space) // 2\n",
    "    ax.text(\n",
    "        space[mid],\n",
    "        values[mid],\n",
    "        f'${mean:.2f} + {beta:.2f} \\cdot x$',\n",
    "        color=color,\n",
    "        size=12,\n",
    "        bbox=dict(boxstyle='round4,pad=.5', fc='0.85'),\n",
    "        ha='center',\n",
    "    )"
   ]
  },
  {
   "cell_type": "code",
   "execution_count": null,
   "id": "american-correlation",
   "metadata": {},
   "outputs": [],
   "source": [
    "plt.figure(figsize=(16, 12))\n",
    "ax = sns.scatterplot(x='X', y='Y', hue='group', data=df, s=10)\n",
    "\n",
    "sub = df.loc[df['group'] == '$G_1$', 'X']\n",
    "annotate_plot(\n",
    "    np.linspace(sub.min(), sub.max()),\n",
    "    fitted_mean_g1,\n",
    "    fitted_beta_g1,\n",
    "    sns.color_palette()[0],\n",
    ")\n",
    "\n",
    "sub = df.loc[df['group'] == '$G_2$', 'X']\n",
    "annotate_plot(\n",
    "    np.linspace(sub.min(), sub.max()),\n",
    "    fitted_mean_g2,\n",
    "    fitted_beta_g2,\n",
    "    sns.color_palette()[1],\n",
    ")\n",
    "\n",
    "plt.legend(bbox_to_anchor=(1, 0.5), loc='center left', frameon=False)"
   ]
  }
 ],
 "metadata": {
  "kernelspec": {
   "display_name": "Python 3",
   "language": "python",
   "name": "python3"
  },
  "language_info": {
   "codemirror_mode": {
    "name": "ipython",
    "version": 3
   },
   "file_extension": ".py",
   "mimetype": "text/x-python",
   "name": "python",
   "nbconvert_exporter": "python",
   "pygments_lexer": "ipython3",
   "version": "3.8.6"
  },
  "toc-autonumbering": true
 },
 "nbformat": 4,
 "nbformat_minor": 4
}

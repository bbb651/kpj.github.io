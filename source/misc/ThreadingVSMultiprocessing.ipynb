{
 "cells": [
  {
   "cell_type": "markdown",
   "metadata": {},
   "source": [
    "# Compare threading and multiprocessing"
   ]
  },
  {
   "cell_type": "code",
   "execution_count": null,
   "metadata": {},
   "outputs": [],
   "source": [
    "import time\n",
    "\n",
    "import multiprocessing as mp\n",
    "from multiprocessing import Pool as ProcessPool\n",
    "from multiprocessing.pool import ThreadPool\n",
    "\n",
    "import pandas as pd\n",
    "\n",
    "import seaborn as sns\n",
    "import matplotlib.pyplot as plt"
   ]
  },
  {
   "cell_type": "code",
   "execution_count": null,
   "metadata": {},
   "outputs": [],
   "source": [
    "sns.set_context('talk')"
   ]
  },
  {
   "cell_type": "markdown",
   "metadata": {},
   "source": [
    "## Introduction\n",
    "\n",
    "There are various choices when trying to run code in parallel.\n",
    "\n",
    "The `threading` module will run all threads on the same CPU core which requires less overhead and allows for more efficient sharing of memory. However, it is not truly parallel and executes the threads when others are idling.\n",
    "\n",
    "The `multiprocessing` module runs the processes on multiple CPU cores and can thus execute code at the same time."
   ]
  },
  {
   "cell_type": "markdown",
   "metadata": {},
   "source": [
    "## Preparations"
   ]
  },
  {
   "cell_type": "markdown",
   "metadata": {},
   "source": [
    "To investigate the differences between threading and multiprocessing,\n",
    "we will simulate work for each data point and measure when it was executed."
   ]
  },
  {
   "cell_type": "code",
   "execution_count": null,
   "metadata": {},
   "outputs": [],
   "source": [
    "def worker(data):\n",
    "    tmp = []\n",
    "    for i in data:\n",
    "        # simulate CPU load\n",
    "        for _ in range(1_000_000):\n",
    "            pass\n",
    "\n",
    "        # store execution time\n",
    "        tmp.append(time.time())\n",
    "    return tmp "
   ]
  },
  {
   "cell_type": "code",
   "execution_count": null,
   "metadata": {},
   "outputs": [],
   "source": [
    "data = list(range(20))\n",
    "num = mp.cpu_count()"
   ]
  },
  {
   "cell_type": "markdown",
   "metadata": {},
   "source": [
    "## Computations"
   ]
  },
  {
   "cell_type": "markdown",
   "metadata": {},
   "source": [
    "We run the `worker` function on the dataset for each executor in both the process and thread pool."
   ]
  },
  {
   "cell_type": "code",
   "execution_count": null,
   "metadata": {},
   "outputs": [],
   "source": [
    "%%time\n",
    "with ThreadPool(num) as p:\n",
    "    thread_result = p.map(worker, [data] * num)"
   ]
  },
  {
   "cell_type": "code",
   "execution_count": null,
   "metadata": {},
   "outputs": [],
   "source": [
    "%%time\n",
    "with ProcessPool(num) as p:\n",
    "    process_result = p.map(worker, [data] * num)"
   ]
  },
  {
   "cell_type": "markdown",
   "metadata": {},
   "source": [
    "Next, we store the result in a dataframe."
   ]
  },
  {
   "cell_type": "code",
   "execution_count": null,
   "metadata": {},
   "outputs": [],
   "source": [
    "df_thread = pd.melt(pd.DataFrame(thread_result, index=[f'job {i:2}' for i in range(num)]).T)\n",
    "df_thread['type'] = 'thread'\n",
    "\n",
    "df_process = pd.melt(pd.DataFrame(process_result, index=[f'job {i:2}' for i in range(num)]).T)\n",
    "df_process['type'] = 'process'\n",
    "\n",
    "df = pd.concat([df_thread, df_process], ignore_index=True)\n",
    "df['value'] = df.groupby('type')['value'].apply(lambda x: x - x.min())  # normalize time\n",
    "df.head()"
   ]
  },
  {
   "cell_type": "markdown",
   "metadata": {},
   "source": [
    "## Investigation"
   ]
  },
  {
   "cell_type": "markdown",
   "metadata": {},
   "source": [
    "There are two main observations:\n",
    "\n",
    "* `multiprocessing` execution takes less total runtime than `threading`\n",
    "\n",
    "* `multiprocessing` timestamps are in parallel, while `threading` timestamps are serial"
   ]
  },
  {
   "cell_type": "code",
   "execution_count": null,
   "metadata": {},
   "outputs": [],
   "source": [
    "g = sns.FacetGrid(df, row='type', aspect=2)\n",
    "g.map_dataframe(sns.scatterplot, x='value', y='variable')\n",
    "g.set_axis_labels('Time [s]', 'Pool')"
   ]
  },
  {
   "cell_type": "markdown",
   "metadata": {},
   "source": [
    "The decision whether to use threading or multiprocessing depends on the use case.\n",
    "\n",
    "As a general rule of thumb, one should use threading if the problem is IO bound and multiprocessing if it is CPU bound."
   ]
  }
 ],
 "metadata": {
  "kernelspec": {
   "display_name": "Python 3",
   "language": "python",
   "name": "python3"
  },
  "language_info": {
   "codemirror_mode": {
    "name": "ipython",
    "version": 3
   },
   "file_extension": ".py",
   "mimetype": "text/x-python",
   "name": "python",
   "nbconvert_exporter": "python",
   "pygments_lexer": "ipython3",
   "version": "3.7.5"
  }
 },
 "nbformat": 4,
 "nbformat_minor": 4
}

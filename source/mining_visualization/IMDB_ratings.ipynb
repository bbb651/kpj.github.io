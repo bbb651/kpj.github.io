{
 "cells": [
  {
   "cell_type": "markdown",
   "id": "academic-burden",
   "metadata": {
    "tags": []
   },
   "source": [
    "# Investigating TV Series ratings using IMDB"
   ]
  },
  {
   "cell_type": "code",
   "execution_count": null,
   "id": "animal-holiday",
   "metadata": {
    "tags": []
   },
   "outputs": [],
   "source": [
    "import imdb\n",
    "\n",
    "import numpy as np\n",
    "import pandas as pd\n",
    "\n",
    "import seaborn as sns\n",
    "import matplotlib.pyplot as plt\n",
    "\n",
    "from tqdm.auto import tqdm"
   ]
  },
  {
   "cell_type": "code",
   "execution_count": null,
   "id": "geographic-seeking",
   "metadata": {
    "tags": []
   },
   "outputs": [],
   "source": [
    "sns.set_context('talk')"
   ]
  },
  {
   "cell_type": "markdown",
   "id": "divine-imperial",
   "metadata": {
    "tags": []
   },
   "source": [
    "## Load ratings"
   ]
  },
  {
   "cell_type": "code",
   "execution_count": null,
   "id": "jewish-distinction",
   "metadata": {
    "tags": []
   },
   "outputs": [],
   "source": [
    "query_list = [\n",
    "    'Lost',\n",
    "    'Game of Thrones',\n",
    "    'Stargate SG-1',\n",
    "    'Stargate: Atlantis',\n",
    "    'Stargate Universe',\n",
    "    'Westworld',\n",
    "    'Black Mirror',\n",
    "    'Breaking Bad',\n",
    "    'The Witcher',\n",
    "    'Dark',\n",
    "]"
   ]
  },
  {
   "cell_type": "code",
   "execution_count": null,
   "id": "dental-slovenia",
   "metadata": {
    "tags": []
   },
   "outputs": [],
   "source": [
    "ia = imdb.IMDb()"
   ]
  },
  {
   "cell_type": "code",
   "execution_count": null,
   "id": "breathing-module",
   "metadata": {
    "tags": []
   },
   "outputs": [],
   "source": [
    "kind = 'tv series'\n",
    "series_list = [\n",
    "    x\n",
    "    for query in query_list\n",
    "    for x in ia.search_movie(query)\n",
    "    if x['kind'] == kind and x['title'] == query and not x.has_key('imdbIndex')\n",
    "]\n",
    "\n",
    "assert len(query_list) == len(series_list)"
   ]
  },
  {
   "cell_type": "code",
   "execution_count": null,
   "id": "developing-trinidad",
   "metadata": {
    "tags": []
   },
   "outputs": [],
   "source": [
    "series_list"
   ]
  },
  {
   "cell_type": "code",
   "execution_count": null,
   "id": "clear-charge",
   "metadata": {
    "tags": []
   },
   "outputs": [],
   "source": [
    "tmp = []\n",
    "for series in tqdm(series_list, desc='Series'):\n",
    "    tqdm.write(series['title'])\n",
    "    ia.update(series, 'episodes')\n",
    "\n",
    "    for season_nr in series['episodes']:\n",
    "        season = series['episodes'][season_nr]\n",
    "\n",
    "        for episode_nr in series['episodes'][season_nr]:\n",
    "            episode = season[episode_nr]\n",
    "\n",
    "            tmp.append(\n",
    "                {\n",
    "                    'series': series['title'],\n",
    "                    'season_nr': season_nr,\n",
    "                    'episode_nr': episode_nr,\n",
    "                    'episode': episode['title'],\n",
    "                    'rating': episode.get('rating', np.nan),\n",
    "                    'date': pd.to_datetime(episode.get('original air date')),\n",
    "                    # 'raw': series.data['episodes'][season][episode]\n",
    "                }\n",
    "            )\n",
    "\n",
    "df = pd.DataFrame(tmp).sort_values(by=['series', 'season_nr', 'episode_nr'])\n",
    "df['idx'] = pd.Categorical(df['season_nr'].map(str) + ':' + df['episode_nr'].map(str))\n",
    "\n",
    "# fix for latest seaborn version (otherwise all cetegory levels are plotted for all series)\n",
    "df['idx'] = df['idx'].astype(str)"
   ]
  },
  {
   "cell_type": "code",
   "execution_count": null,
   "id": "final-quick",
   "metadata": {
    "tags": []
   },
   "outputs": [],
   "source": [
    "df.head()"
   ]
  },
  {
   "cell_type": "markdown",
   "id": "numeric-exclusive",
   "metadata": {
    "tags": []
   },
   "source": [
    "## Visualize results"
   ]
  },
  {
   "cell_type": "code",
   "execution_count": null,
   "id": "express-method",
   "metadata": {
    "tags": []
   },
   "outputs": [],
   "source": [
    "def annotate_episode(entry, ax, m):\n",
    "    return ax.annotate(\n",
    "        entry.episode,\n",
    "        xy=(entry.idx, entry.rating),\n",
    "        xytext=(0, 10 * m),\n",
    "        xycoords='data',\n",
    "        textcoords='offset points',\n",
    "        fontsize=10,\n",
    "        ha='center',\n",
    "        va='center',\n",
    "        arrowprops=dict(arrowstyle='->'),\n",
    "    )"
   ]
  },
  {
   "cell_type": "code",
   "execution_count": null,
   "id": "typical-harvest",
   "metadata": {
    "tags": []
   },
   "outputs": [],
   "source": [
    "g = sns.FacetGrid(\n",
    "    df.dropna(),\n",
    "    row='series',\n",
    "    hue='season_nr',\n",
    "    sharex=False,\n",
    "    sharey=True,\n",
    "    aspect=2,\n",
    "    height=5,\n",
    ")\n",
    "\n",
    "g.map_dataframe(sns.lineplot, x='idx', y='rating', marker='o', estimator=None)\n",
    "\n",
    "g.set_xticklabels([])\n",
    "g.set_ylabels('IMDB score')\n",
    "\n",
    "g.add_legend()\n",
    "\n",
    "# annotate episodes\n",
    "for (i, j, k), data in g.facet_data():\n",
    "    # row, col, hue\n",
    "    ax = g.facet_axis(i, j)\n",
    "\n",
    "    if not data.empty:\n",
    "        annotate_episode(data.loc[data['rating'].idxmax()], ax, 1)\n",
    "        annotate_episode(data.loc[data['rating'].idxmin()], ax, -1)"
   ]
  }
 ],
 "metadata": {
  "kernelspec": {
   "display_name": "Python 3",
   "language": "python",
   "name": "python3"
  },
  "language_info": {
   "codemirror_mode": {
    "name": "ipython",
    "version": 3
   },
   "file_extension": ".py",
   "mimetype": "text/x-python",
   "name": "python",
   "nbconvert_exporter": "python",
   "pygments_lexer": "ipython3",
   "version": "3.8.6"
  }
 },
 "nbformat": 4,
 "nbformat_minor": 5
}

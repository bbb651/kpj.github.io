{
 "cells": [
  {
   "cell_type": "markdown",
   "metadata": {},
   "source": [
    "# Comparing threading and multiprocessing"
   ]
  },
  {
   "cell_type": "code",
   "execution_count": 1,
   "metadata": {},
   "outputs": [],
   "source": [
    "import time\n",
    "\n",
    "import multiprocessing as mp\n",
    "from multiprocessing import Pool as ProcessPool\n",
    "from multiprocessing.pool import ThreadPool\n",
    "\n",
    "import pandas as pd\n",
    "\n",
    "import seaborn as sns\n",
    "import matplotlib.pyplot as plt"
   ]
  },
  {
   "cell_type": "code",
   "execution_count": 2,
   "metadata": {},
   "outputs": [],
   "source": [
    "sns.set_context('talk')"
   ]
  },
  {
   "cell_type": "markdown",
   "metadata": {},
   "source": [
    "## Introduction\n",
    "\n",
    "There are various choices when trying to run code in parallel.\n",
    "\n",
    "The `threading` module will run all threads on the same CPU core which requires less overhead and allows for more efficient sharing of memory. However, it is not truly parallel and executes the threads when others are idling.\n",
    "\n",
    "The `multiprocessing` module runs the processes on multiple CPU cores and can thus execute code at the same time."
   ]
  },
  {
   "cell_type": "markdown",
   "metadata": {},
   "source": [
    "## Preparations"
   ]
  },
  {
   "cell_type": "markdown",
   "metadata": {},
   "source": [
    "To investigate the differences between threading and multiprocessing,\n",
    "we will simulate work for each data point and measure when it was executed.\n",
    "\n",
    "Due to some [design choices](https://bugs.python.org/issue25053), we have to import the worker function from a separate module for the `ProcessPool` to work."
   ]
  },
  {
   "cell_type": "code",
   "execution_count": 3,
   "metadata": {},
   "outputs": [
    {
     "name": "stdout",
     "output_type": "stream",
     "text": [
      "Writing worker.py\n"
     ]
    }
   ],
   "source": [
    "%%writefile worker.py\n",
    "\n",
    "import time\n",
    "\n",
    "\n",
    "def worker(data):\n",
    "    tmp = []\n",
    "    for i in data:\n",
    "        # simulate CPU load\n",
    "        for _ in range(1_000_000):\n",
    "            pass\n",
    "\n",
    "        # store execution time\n",
    "        tmp.append(time.time())\n",
    "    return tmp "
   ]
  },
  {
   "cell_type": "code",
   "execution_count": 4,
   "metadata": {},
   "outputs": [],
   "source": [
    "from worker import worker"
   ]
  },
  {
   "cell_type": "code",
   "execution_count": 5,
   "metadata": {},
   "outputs": [],
   "source": [
    "data = list(range(20))\n",
    "num = mp.cpu_count()"
   ]
  },
  {
   "cell_type": "markdown",
   "metadata": {},
   "source": [
    "## Computations"
   ]
  },
  {
   "cell_type": "markdown",
   "metadata": {},
   "source": [
    "We run the `worker` function on the dataset for each executor in both the process and thread pool."
   ]
  },
  {
   "cell_type": "code",
   "execution_count": 6,
   "metadata": {},
   "outputs": [
    {
     "name": "stdout",
     "output_type": "stream",
     "text": [
      "CPU times: user 2.27 s, sys: 29.7 ms, total: 2.3 s\n",
      "Wall time: 2.31 s\n"
     ]
    }
   ],
   "source": [
    "%%time\n",
    "with ThreadPool(num) as p:\n",
    "    thread_result = p.map(worker, [data] * num)"
   ]
  },
  {
   "cell_type": "code",
   "execution_count": 7,
   "metadata": {},
   "outputs": [
    {
     "name": "stdout",
     "output_type": "stream",
     "text": [
      "CPU times: user 13.8 ms, sys: 27.2 ms, total: 41 ms\n",
      "Wall time: 1.47 s\n"
     ]
    }
   ],
   "source": [
    "%%time\n",
    "with ProcessPool(num) as p:\n",
    "    process_result = p.map(worker, [data] * num)"
   ]
  },
  {
   "cell_type": "markdown",
   "metadata": {},
   "source": [
    "Next, we store the result in a dataframe."
   ]
  },
  {
   "cell_type": "code",
   "execution_count": 8,
   "metadata": {},
   "outputs": [
    {
     "data": {
      "text/html": [
       "<div>\n",
       "<style scoped>\n",
       "    .dataframe tbody tr th:only-of-type {\n",
       "        vertical-align: middle;\n",
       "    }\n",
       "\n",
       "    .dataframe tbody tr th {\n",
       "        vertical-align: top;\n",
       "    }\n",
       "\n",
       "    .dataframe thead th {\n",
       "        text-align: right;\n",
       "    }\n",
       "</style>\n",
       "<table border=\"1\" class=\"dataframe\">\n",
       "  <thead>\n",
       "    <tr style=\"text-align: right;\">\n",
       "      <th></th>\n",
       "      <th>variable</th>\n",
       "      <th>value</th>\n",
       "      <th>type</th>\n",
       "    </tr>\n",
       "  </thead>\n",
       "  <tbody>\n",
       "    <tr>\n",
       "      <th>0</th>\n",
       "      <td>job  0</td>\n",
       "      <td>0.000000</td>\n",
       "      <td>thread</td>\n",
       "    </tr>\n",
       "    <tr>\n",
       "      <th>1</th>\n",
       "      <td>job  0</td>\n",
       "      <td>0.130458</td>\n",
       "      <td>thread</td>\n",
       "    </tr>\n",
       "    <tr>\n",
       "      <th>2</th>\n",
       "      <td>job  0</td>\n",
       "      <td>0.212807</td>\n",
       "      <td>thread</td>\n",
       "    </tr>\n",
       "    <tr>\n",
       "      <th>3</th>\n",
       "      <td>job  0</td>\n",
       "      <td>0.327661</td>\n",
       "      <td>thread</td>\n",
       "    </tr>\n",
       "    <tr>\n",
       "      <th>4</th>\n",
       "      <td>job  0</td>\n",
       "      <td>0.421350</td>\n",
       "      <td>thread</td>\n",
       "    </tr>\n",
       "  </tbody>\n",
       "</table>\n",
       "</div>"
      ],
      "text/plain": [
       "  variable     value    type\n",
       "0   job  0  0.000000  thread\n",
       "1   job  0  0.130458  thread\n",
       "2   job  0  0.212807  thread\n",
       "3   job  0  0.327661  thread\n",
       "4   job  0  0.421350  thread"
      ]
     },
     "execution_count": 8,
     "metadata": {},
     "output_type": "execute_result"
    }
   ],
   "source": [
    "df_thread = pd.melt(pd.DataFrame(thread_result, index=[f'job {i:2}' for i in range(num)]).T)\n",
    "df_thread['type'] = 'thread'\n",
    "\n",
    "df_process = pd.melt(pd.DataFrame(process_result, index=[f'job {i:2}' for i in range(num)]).T)\n",
    "df_process['type'] = 'process'\n",
    "\n",
    "df = pd.concat([df_thread, df_process], ignore_index=True)\n",
    "df['value'] = df.groupby('type')['value'].apply(lambda x: x - x.min())  # normalize time\n",
    "df.head()"
   ]
  },
  {
   "cell_type": "markdown",
   "metadata": {},
   "source": [
    "## Investigation"
   ]
  },
  {
   "cell_type": "markdown",
   "metadata": {},
   "source": [
    "There are two main observations:\n",
    "\n",
    "* `multiprocessing` execution takes less total runtime than `threading`\n",
    "\n",
    "* `multiprocessing` timestamps are in parallel, while `threading` timestamps are serial"
   ]
  },
  {
   "cell_type": "code",
   "execution_count": 9,
   "metadata": {},
   "outputs": [
    {
     "data": {
      "text/plain": [
       "<seaborn.axisgrid.FacetGrid at 0x11c0cbfd0>"
      ]
     },
     "execution_count": 9,
     "metadata": {},
     "output_type": "execute_result"
    },
    {
     "data": {
      "image/png": "[encoded data removed]",
      "text/plain": [
       "<Figure size 432x432 with 2 Axes>"
      ]
     },
     "metadata": {
      "needs_background": "light"
     },
     "output_type": "display_data"
    }
   ],
   "source": [
    "g = sns.FacetGrid(df, row='type', aspect=2)\n",
    "g.map_dataframe(sns.scatterplot, x='value', y='variable')\n",
    "g.set_axis_labels('Time [s]', 'Pool')"
   ]
  },
  {
   "cell_type": "markdown",
   "metadata": {},
   "source": [
    "The decision whether to use threading or multiprocessing depends on the use case.\n",
    "\n",
    "As a general rule of thumb, one should use threading if the problem is IO bound and multiprocessing if it is CPU bound."
   ]
  }
 ],
 "metadata": {
  "kernelspec": {
   "display_name": "Python 3",
   "language": "python",
   "name": "python3"
  },
  "language_info": {
   "codemirror_mode": {
    "name": "ipython",
    "version": 3
   },
   "file_extension": ".py",
   "mimetype": "text/x-python",
   "name": "python",
   "nbconvert_exporter": "python",
   "pygments_lexer": "ipython3",
   "version": "3.8.5"
  }
 },
 "nbformat": 4,
 "nbformat_minor": 4
}

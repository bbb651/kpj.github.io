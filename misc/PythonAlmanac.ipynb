{
 "cells": [
  {
   "cell_type": "markdown",
   "id": "charged-arthritis",
   "metadata": {
    "tags": []
   },
   "source": [
    "# The Python Almanac\n",
    "\n",
    "The world of Python packages is adventurous and can be confusing at times.\n",
    "Here, I try to aggregate and showcase a diverse set of Python packages which have become useful at some point."
   ]
  },
  {
   "cell_type": "markdown",
   "id": "hidden-carolina",
   "metadata": {
    "tags": []
   },
   "source": [
    "## Introduction"
   ]
  },
  {
   "cell_type": "markdown",
   "id": "injured-scheduling",
   "metadata": {
    "tags": []
   },
   "source": [
    "### Installing Python\n",
    "\n",
    "Normally you should use your system's package manager.\n",
    "In case of problems, try [pyenv](https://github.com/pyenv/pyenv):\n",
    "\n",
    "```bash\n",
    "$ pyenv versions\n",
    "$ pyenv install <foo>\n",
    "$ pyenv global <foo>\n",
    "```\n",
    "\n",
    "This will install the specified Python version to `$(pyenv root)/versions`."
   ]
  },
  {
   "cell_type": "markdown",
   "id": "japanese-spare",
   "metadata": {
    "tags": []
   },
   "source": [
    "### Installing packages\n",
    "\n",
    "Python packages can be easily installed from [PyPI (Python Package Index)](https://pypi.org/):\n",
    "\n",
    "```bash\n",
    "$ pip install --user <package> (local install does not clash with system packages)\n",
    "```\n",
    "\n",
    "Using `--user` will install the package only for the current user. This is good if multiple users need different package versions, but can lead to redundant installations.\n",
    "\n",
    "To install from a git repository, use the following command:\n",
    "\n",
    "```bash\n",
    "$ pip install --user -U git+https://github.com/<user>/<repository>@<branch>\n",
    "```"
   ]
  },
  {
   "cell_type": "markdown",
   "id": "significant-resort",
   "metadata": {
    "tags": []
   },
   "source": [
    "### Package management\n",
    "\n",
    "While packages can be installed globally or user-specific, it often makes sense to create project-specific virtual environments.\n",
    "\n",
    "This can be easily accomplished using [venv](https://docs.python.org/3/library/venv.html):\n",
    "\n",
    "```bash\n",
    "$ python -m venv my_venv\n",
    "$ . venv/bin/activate\n",
    "$ pip install <package>\n",
    "```"
   ]
  },
  {
   "cell_type": "markdown",
   "id": "protective-trailer",
   "metadata": {
    "tags": []
   },
   "source": [
    "## Software development"
   ]
  },
  {
   "cell_type": "markdown",
   "id": "removed-address",
   "metadata": {
    "tags": []
   },
   "source": [
    "### Package Distribution\n",
    "\n",
    "Use `setuptools`.\n",
    "[poetry](https://github.com/sdispater/poetry) handles many otherwise slightly annoying things:\n",
    "```\n",
    "$ poetry init/add/install/run/publish\n",
    "```\n",
    "\n",
    "CI encapsulation: [tox](https://github.com/tox-dev/tox).\n",
    "\n",
    "Keeping track of version numbers can be achieved using [bump2version](https://github.com/c4urself/bump2version).\n",
    "\n",
    "Transform between various project file formats using [dephell](https://github.com/dephell/dephell)."
   ]
  },
  {
   "cell_type": "markdown",
   "id": "little-entity",
   "metadata": {
    "tags": []
   },
   "source": [
    "### Testing\n",
    "\n",
    "Setup testing using [pytest](https://github.com/pytest-dev/pytest). It has a wide range of useful features, such as fixtures (modularized per-test setup code) and test parametrization (quickly execute the same test for multiple inputs)."
   ]
  },
  {
   "cell_type": "code",
   "execution_count": 1,
   "id": "adopted-engine",
   "metadata": {
    "tags": []
   },
   "outputs": [
    {
     "name": "stdout",
     "output_type": "stream",
     "text": [
      "Writing /tmp/tests.py\n"
     ]
    }
   ],
   "source": [
    "%%writefile /tmp/tests.py\n",
    "\n",
    "import os\n",
    "import pytest\n",
    "\n",
    "\n",
    "@pytest.fixture(scope='session')\n",
    "def custom_directory(tmp_path_factory):\n",
    "    return tmp_path_factory.mktemp('workflow_test')\n",
    "\n",
    "\n",
    "def test_fixture_execution(custom_directory):\n",
    "    assert os.path.isdir(custom_directory)\n",
    "\n",
    "\n",
    "@pytest.mark.parametrize('expression_str,result', [\n",
    "    ('2+2', 4), ('2*2', 4), ('2**2', 4)\n",
    "])\n",
    "def test_expression_evaluation(expression_str, result):\n",
    "    assert eval(expression_str) == result"
   ]
  },
  {
   "cell_type": "code",
   "execution_count": 2,
   "id": "canadian-merchandise",
   "metadata": {
    "tags": []
   },
   "outputs": [
    {
     "name": "stdout",
     "output_type": "stream",
     "text": [
      "\u001b[1m============================= test session starts ==============================\u001b[0m\r\n",
      "platform darwin -- Python 3.8.6, pytest-6.2.2, py-1.10.0, pluggy-0.13.1 -- /Users/kimja/.pyenv/versions/3.8.6/bin/python3.8\r\n",
      "cachedir: .pytest_cache\r\n",
      "rootdir: /tmp\r\n",
      "plugins: anyio-2.0.2\r\n",
      "\u001b[1mcollecting ... \u001b[0m\u001b[1m\r",
      "collected 4 items                                                              \u001b[0m\r\n",
      "\r\n",
      "../../../../../../../../tmp/tests.py::test_fixture_execution \u001b[32mPASSED\u001b[0m\u001b[32m      [ 25%]\u001b[0m\r\n",
      "../../../../../../../../tmp/tests.py::test_expression_evaluation[2+2-4] \u001b[32mPASSED\u001b[0m\u001b[32m [ 50%]\u001b[0m\r\n",
      "../../../../../../../../tmp/tests.py::test_expression_evaluation[2*2-4] \u001b[32mPASSED\u001b[0m\u001b[32m [ 75%]\u001b[0m\r\n",
      "../../../../../../../../tmp/tests.py::test_expression_evaluation[2**2-4] \u001b[32mPASSED\u001b[0m\u001b[32m [100%]\u001b[0m\r\n",
      "\r\n",
      "\u001b[32m============================== \u001b[32m\u001b[1m4 passed\u001b[0m\u001b[32m in 0.03s\u001b[0m\u001b[32m ===============================\u001b[0m\r\n"
     ]
    }
   ],
   "source": [
    "!pytest -v /tmp/tests.py"
   ]
  },
  {
   "cell_type": "markdown",
   "id": "vietnamese-pendant",
   "metadata": {
    "tags": []
   },
   "source": [
    "### Linting/Formatting\n",
    "\n",
    "Linters and code formatters improve the quality of your Python code by conducting a static analysis and flagging issues.\n",
    "\n",
    "* [flake8](https://github.com/PyCQA/flake8): Catch various common errors and adhere to PEP8. Supports many [plugins](https://github.com/DmytroLitvinov/awesome-flake8-extensions).\n",
    "* [pylint](https://github.com/PyCQA/pylint): Looks for even more sources of code smell.\n",
    "* [black](https://github.com/psf/black): \"*the* uncompromising Python code formatter\".\n",
    "\n",
    "While there can be a considerable overlap between the tools' outputs, each offers its own advantages and they can typically be used together."
   ]
  },
  {
   "cell_type": "markdown",
   "id": "gross-savannah",
   "metadata": {
    "tags": []
   },
   "source": [
    "### Profiling\n",
    "\n",
    "Code profiling tools are a great way of finding parts of your code which can be optimized.\n",
    "They come in various flavors:\n",
    "\n",
    "* [line_profiler](https://github.com/pyutils/line_profiler): which parts of the code require most execution time\n",
    "* [memory_profiler](https://github.com/pythonprofilers/memory_profiler): which parts of the code consume the most memory"
   ]
  },
  {
   "cell_type": "markdown",
   "id": "dying-problem",
   "metadata": {
    "tags": []
   },
   "source": [
    "Consider the following script (note the `@profile` decorator):"
   ]
  },
  {
   "cell_type": "code",
   "execution_count": 3,
   "id": "wooden-brunei",
   "metadata": {
    "tags": []
   },
   "outputs": [
    {
     "name": "stdout",
     "output_type": "stream",
     "text": [
      "Writing /tmp/script.py\n"
     ]
    }
   ],
   "source": [
    "%%writefile /tmp/script.py\n",
    "\n",
    "@profile\n",
    "def main():\n",
    "    # takes a long time\n",
    "    for _ in range(100_000):\n",
    "        1337**42\n",
    "\n",
    "    # requires a lot of memory\n",
    "    arr = [1] * 1_000_000\n",
    "    \n",
    "main()"
   ]
  },
  {
   "cell_type": "markdown",
   "id": "sudden-exception",
   "metadata": {
    "tags": []
   },
   "source": [
    "#### line_profiler"
   ]
  },
  {
   "cell_type": "code",
   "execution_count": 4,
   "id": "intimate-myanmar",
   "metadata": {
    "tags": []
   },
   "outputs": [
    {
     "name": "stdout",
     "output_type": "stream",
     "text": [
      "Wrote profile results to /tmp/script.py.lprof\r\n",
      "Timer unit: 1e-06 s\r\n",
      "\r\n",
      "Total time: 0.119151 s\r\n",
      "File: /tmp/script.py\r\n",
      "Function: main at line 2\r\n",
      "\r\n",
      "Line #      Hits         Time  Per Hit   % Time  Line Contents\r\n",
      "==============================================================\r\n",
      "     2                                           @profile\r\n",
      "     3                                           def main():\r\n",
      "     4                                               # takes a long time\r\n",
      "     5    100001      30243.0      0.3     25.4      for _ in range(100_000):\r\n",
      "     6    100000      85553.0      0.9     71.8          1337**42\r\n",
      "     7                                           \r\n",
      "     8                                               # requires a lot of memory\r\n",
      "     9         1       3355.0   3355.0      2.8      arr = [1] * 1_000_000\r\n",
      "\r\n"
     ]
    }
   ],
   "source": [
    "!kernprof -l -v -o /tmp/script.py.lprof /tmp/script.py"
   ]
  },
  {
   "cell_type": "markdown",
   "id": "arbitrary-finnish",
   "metadata": {
    "tags": []
   },
   "source": [
    "#### memory_profiler"
   ]
  },
  {
   "cell_type": "code",
   "execution_count": 5,
   "id": "typical-muscle",
   "metadata": {
    "tags": []
   },
   "outputs": [
    {
     "name": "stdout",
     "output_type": "stream",
     "text": [
      "Filename: /tmp/script.py\r\n",
      "\r\n",
      "Line #    Mem usage    Increment  Occurences   Line Contents\r\n",
      "============================================================\r\n",
      "     2   37.586 MiB   37.586 MiB           1   @profile\r\n",
      "     3                                         def main():\r\n",
      "     4                                             # takes a long time\r\n",
      "     5   37.598 MiB    0.000 MiB      100001       for _ in range(100_000):\r\n",
      "     6   37.598 MiB    0.012 MiB      100000           1337**42\r\n",
      "     7                                         \r\n",
      "     8                                             # requires a lot of memory\r\n",
      "     9   45.230 MiB    7.633 MiB           1       arr = [1] * 1_000_000\r\n",
      "\r\n",
      "\r\n"
     ]
    }
   ],
   "source": [
    "!python3 -m memory_profiler /tmp/script.py"
   ]
  },
  {
   "cell_type": "markdown",
   "id": "colonial-induction",
   "metadata": {
    "tags": []
   },
   "source": [
    "### Debugging"
   ]
  },
  {
   "cell_type": "markdown",
   "id": "increased-wholesale",
   "metadata": {
    "tags": []
   },
   "source": [
    "#### Raw python\n",
    "\n",
    "[ipdb](https://github.com/gotcha/ipdb) is useful Python commandline debugger.\n",
    "To invoke it, simply put `import ipdb; ipdb.set_trace()` in your code.\n",
    "Starting with Python 3.7, you can also write `breakpoint()`. This honors the `PYTHONBREAKPOINT` environment variable.\n",
    "To automatically start the debugger when an error occurs, run your script with `python -m ipdb -c continue <script>`.\n",
    "\n",
    "The debugger supports various commands:\n",
    "* p: print expression\n",
    "* pp: pretty print\n",
    "* n: next line in current function\n",
    "* s: execute current line and stop at next possible location (e.g. in function call)\n",
    "* c: continue execution\n",
    "* unt: execute until we reach greater line\n",
    "* l: list source (`l .`)\n",
    "* ll: whole source code of current function\n",
    "* b: breakpoint (`[ ([filename:]lineno | function) [, condition] ]`)\n",
    "* w/bt: print stack trace\n",
    "* u: move up the stack trace\n",
    "* d: move down the stack trace\n",
    "* h: help\n",
    "* q: quit"
   ]
  },
  {
   "cell_type": "markdown",
   "id": "tough-baghdad",
   "metadata": {
    "tags": []
   },
   "source": [
    "#### C++ extension:\n",
    "Open two windows: ipython, ldb (gdb)\n",
    "\n",
    "In [1]: !ps aux | grep -i ipython\n",
    "(lldb) attach --pid 1234\n",
    "(lldb) continue\n",
    "\n",
    "(lldb) breakpoint set -f myfile.cpp -l 400\n",
    "\n",
    "In [2]: run myscript.py"
   ]
  },
  {
   "cell_type": "markdown",
   "id": "verified-booking",
   "metadata": {
    "tags": []
   },
   "source": [
    "### Documentation"
   ]
  },
  {
   "cell_type": "markdown",
   "id": "approximate-roller",
   "metadata": {
    "tags": []
   },
   "source": [
    "sphinx, nbsphinx"
   ]
  },
  {
   "cell_type": "markdown",
   "id": "lyric-locking",
   "metadata": {
    "tags": []
   },
   "source": [
    "### Logging\n",
    "\n",
    "There are various built-in and third-party logging modules available."
   ]
  },
  {
   "cell_type": "code",
   "execution_count": 6,
   "id": "selective-greece",
   "metadata": {
    "tags": []
   },
   "outputs": [],
   "source": [
    "from loguru import logger"
   ]
  },
  {
   "cell_type": "code",
   "execution_count": 7,
   "id": "composite-worth",
   "metadata": {
    "tags": []
   },
   "outputs": [
    {
     "name": "stderr",
     "output_type": "stream",
     "text": [
      "2021-04-17 13:18:23.046 | DEBUG    | __main__:<module>:1 - Helpful debug message\n"
     ]
    },
    {
     "name": "stderr",
     "output_type": "stream",
     "text": [
      "2021-04-17 13:18:23.047 | ERROR    | __main__:<module>:2 - oh no\n"
     ]
    }
   ],
   "source": [
    "logger.debug('Helpful debug message')\n",
    "logger.error('oh no')"
   ]
  },
  {
   "cell_type": "markdown",
   "id": "driven-orbit",
   "metadata": {
    "tags": []
   },
   "source": [
    "## Data Science"
   ]
  },
  {
   "cell_type": "markdown",
   "id": "suburban-enforcement",
   "metadata": {
    "tags": []
   },
   "source": [
    "### SciPy\n",
    "\n",
    "[SciPy](https://www.scipy.org/) is comprised of various popular Python modules which are for scientific computations.\n",
    "\n",
    "[Numpy](https://numpy.org/) can be used for a multitude of things."
   ]
  },
  {
   "cell_type": "code",
   "execution_count": 8,
   "id": "nominated-deployment",
   "metadata": {
    "tags": []
   },
   "outputs": [],
   "source": [
    "import numpy as np"
   ]
  },
  {
   "cell_type": "code",
   "execution_count": 9,
   "id": "square-shipping",
   "metadata": {
    "tags": []
   },
   "outputs": [],
   "source": [
    "data = np.random.normal(size=(100, 3))"
   ]
  },
  {
   "cell_type": "code",
   "execution_count": 10,
   "id": "attempted-meter",
   "metadata": {
    "tags": []
   },
   "outputs": [
    {
     "data": {
      "text/plain": [
       "array([[-0.83122584, -1.38163299, -1.52576443],\n",
       "       [ 0.5982737 , -0.85612216, -0.82186463],\n",
       "       [ 0.59198059, -0.32390736,  0.52771964],\n",
       "       [ 1.0510935 ,  0.44954205,  1.12202483],\n",
       "       [ 0.7531032 ,  0.75137727,  0.34958107],\n",
       "       [ 0.10703286, -0.89865488, -0.51036725],\n",
       "       [-0.7864523 , -1.09076808,  1.4295541 ],\n",
       "       [ 0.74887716,  0.40465062, -0.93089141],\n",
       "       [-0.7957269 ,  0.2428791 , -0.47080749],\n",
       "       [ 1.35390682,  0.41568071, -0.72479103]])"
      ]
     },
     "execution_count": 10,
     "metadata": {},
     "output_type": "execute_result"
    }
   ],
   "source": [
    "data[:10, :]"
   ]
  },
  {
   "cell_type": "markdown",
   "id": "occupational-compound",
   "metadata": {
    "tags": []
   },
   "source": [
    "### Dataframes\n",
    "\n",
    "Organizing your data in dataframes using [pandas](https://pandas.pydata.org/) makes nearly everything easier."
   ]
  },
  {
   "cell_type": "code",
   "execution_count": 11,
   "id": "satellite-adoption",
   "metadata": {
    "tags": []
   },
   "outputs": [],
   "source": [
    "import pandas as pd"
   ]
  },
  {
   "cell_type": "code",
   "execution_count": 12,
   "id": "driving-boards",
   "metadata": {
    "tags": []
   },
   "outputs": [],
   "source": [
    "df = pd.DataFrame(data, columns=['A', 'B', 'C'])\n",
    "df['group'] = np.random.choice(['G1', 'G2'], size=df.shape[0])"
   ]
  },
  {
   "cell_type": "code",
   "execution_count": 13,
   "id": "palestinian-fountain",
   "metadata": {
    "tags": []
   },
   "outputs": [
    {
     "data": {
      "text/html": [
       "<div>\n",
       "<style scoped>\n",
       "    .dataframe tbody tr th:only-of-type {\n",
       "        vertical-align: middle;\n",
       "    }\n",
       "\n",
       "    .dataframe tbody tr th {\n",
       "        vertical-align: top;\n",
       "    }\n",
       "\n",
       "    .dataframe thead th {\n",
       "        text-align: right;\n",
       "    }\n",
       "</style>\n",
       "<table border=\"1\" class=\"dataframe\">\n",
       "  <thead>\n",
       "    <tr style=\"text-align: right;\">\n",
       "      <th></th>\n",
       "      <th>A</th>\n",
       "      <th>B</th>\n",
       "      <th>C</th>\n",
       "      <th>group</th>\n",
       "    </tr>\n",
       "  </thead>\n",
       "  <tbody>\n",
       "    <tr>\n",
       "      <th>0</th>\n",
       "      <td>-0.831226</td>\n",
       "      <td>-1.381633</td>\n",
       "      <td>-1.525764</td>\n",
       "      <td>G2</td>\n",
       "    </tr>\n",
       "    <tr>\n",
       "      <th>1</th>\n",
       "      <td>0.598274</td>\n",
       "      <td>-0.856122</td>\n",
       "      <td>-0.821865</td>\n",
       "      <td>G2</td>\n",
       "    </tr>\n",
       "    <tr>\n",
       "      <th>2</th>\n",
       "      <td>0.591981</td>\n",
       "      <td>-0.323907</td>\n",
       "      <td>0.527720</td>\n",
       "      <td>G1</td>\n",
       "    </tr>\n",
       "    <tr>\n",
       "      <th>3</th>\n",
       "      <td>1.051093</td>\n",
       "      <td>0.449542</td>\n",
       "      <td>1.122025</td>\n",
       "      <td>G1</td>\n",
       "    </tr>\n",
       "    <tr>\n",
       "      <th>4</th>\n",
       "      <td>0.753103</td>\n",
       "      <td>0.751377</td>\n",
       "      <td>0.349581</td>\n",
       "      <td>G2</td>\n",
       "    </tr>\n",
       "  </tbody>\n",
       "</table>\n",
       "</div>"
      ],
      "text/plain": [
       "          A         B         C group\n",
       "0 -0.831226 -1.381633 -1.525764    G2\n",
       "1  0.598274 -0.856122 -0.821865    G2\n",
       "2  0.591981 -0.323907  0.527720    G1\n",
       "3  1.051093  0.449542  1.122025    G1\n",
       "4  0.753103  0.751377  0.349581    G2"
      ]
     },
     "execution_count": 13,
     "metadata": {},
     "output_type": "execute_result"
    }
   ],
   "source": [
    "df.head()"
   ]
  },
  {
   "cell_type": "markdown",
   "id": "choice-cincinnati",
   "metadata": {
    "tags": []
   },
   "source": [
    "### Networkx\n",
    "\n",
    "[Networkx](https://github.com/networkx/networkx) is a wonderful library for conducting network analysis."
   ]
  },
  {
   "cell_type": "code",
   "execution_count": 14,
   "id": "disturbed-bridges",
   "metadata": {
    "tags": []
   },
   "outputs": [],
   "source": [
    "import networkx as nx"
   ]
  },
  {
   "cell_type": "code",
   "execution_count": 15,
   "id": "above-bread",
   "metadata": {
    "tags": []
   },
   "outputs": [
    {
     "name": "stdout",
     "output_type": "stream",
     "text": [
      "Name: \n",
      "Type: Graph\n",
      "Number of nodes: 100\n",
      "Number of edges: 200\n",
      "Average degree:   4.0000\n"
     ]
    }
   ],
   "source": [
    "graph = nx.watts_strogatz_graph(100, 4, 0.1)\n",
    "print(nx.info(graph))"
   ]
  },
  {
   "cell_type": "code",
   "execution_count": 16,
   "id": "bibliographic-biology",
   "metadata": {
    "tags": []
   },
   "outputs": [
    {
     "data": {
      "text/plain": [
       "[(0, (882.93, 1133.7)), (1, (792.74, 913.32)), (2, (1012.7, 903.19))]"
      ]
     },
     "execution_count": 16,
     "metadata": {},
     "output_type": "execute_result"
    }
   ],
   "source": [
    "pos = nx.drawing.nx_agraph.graphviz_layout(graph, prog='neato', args='-Goverlap=scale')\n",
    "list(pos.items())[:3]"
   ]
  },
  {
   "cell_type": "code",
   "execution_count": 17,
   "id": "dramatic-ministry",
   "metadata": {
    "tags": []
   },
   "outputs": [
    {
     "data": {
      "text/plain": [
       "[(0, 0.5), (1, 0.3), (2, 0.3333333333333333)]"
      ]
     },
     "execution_count": 17,
     "metadata": {},
     "output_type": "execute_result"
    }
   ],
   "source": [
    "node_clustering = nx.clustering(graph)\n",
    "list(node_clustering.items())[:3]"
   ]
  },
  {
   "cell_type": "code",
   "execution_count": 18,
   "id": "mysterious-validation",
   "metadata": {
    "tags": []
   },
   "outputs": [
    {
     "data": {
      "image/png": "[encoded data removed]",
      "text/plain": [
       "<Figure size 432x288 with 1 Axes>"
      ]
     },
     "metadata": {},
     "output_type": "display_data"
    }
   ],
   "source": [
    "nx.draw(\n",
    "    graph,\n",
    "    pos,\n",
    "    node_size=100,\n",
    "    nodelist=list(node_clustering.keys()),\n",
    "    node_color=list(node_clustering.values()),\n",
    ")"
   ]
  },
  {
   "cell_type": "markdown",
   "id": "ambient-stockholm",
   "metadata": {
    "tags": []
   },
   "source": [
    "### Plotting"
   ]
  },
  {
   "cell_type": "markdown",
   "id": "optimum-watershed",
   "metadata": {
    "tags": []
   },
   "source": [
    "#### Matplotlib\n",
    "\n",
    "[Matplotlib](https://matplotlib.org/) is the de facto standard plotting library for Python."
   ]
  },
  {
   "cell_type": "code",
   "execution_count": 19,
   "id": "characteristic-vector",
   "metadata": {
    "tags": []
   },
   "outputs": [],
   "source": [
    "import matplotlib.pyplot as plt"
   ]
  },
  {
   "cell_type": "code",
   "execution_count": 20,
   "id": "chicken-tulsa",
   "metadata": {
    "tags": []
   },
   "outputs": [
    {
     "data": {
      "image/png": "[encoded data removed]",
      "text/plain": [
       "<Figure size 432x288 with 1 Axes>"
      ]
     },
     "metadata": {
      "needs_background": "light"
     },
     "output_type": "display_data"
    }
   ],
   "source": [
    "fig, ax = plt.subplots()\n",
    "\n",
    "ax.scatter(data[:, 0], data[:, 1])\n",
    "\n",
    "fig.tight_layout()"
   ]
  },
  {
   "cell_type": "markdown",
   "id": "solar-retailer",
   "metadata": {
    "tags": []
   },
   "source": [
    "Axis ticks can be formatted in a multitude of different [ways](https://matplotlib.org/api/ticker_api.html#tick-formatting).\n",
    "The most versatile way is probably `FuncFormatter`."
   ]
  },
  {
   "cell_type": "code",
   "execution_count": 21,
   "id": "collective-proportion",
   "metadata": {
    "tags": []
   },
   "outputs": [],
   "source": [
    "from matplotlib.ticker import FuncFormatter"
   ]
  },
  {
   "cell_type": "code",
   "execution_count": 22,
   "id": "accepted-parade",
   "metadata": {
    "tags": []
   },
   "outputs": [],
   "source": [
    "@FuncFormatter\n",
    "def my_formatter(x, pos):\n",
    "    return f'{x=}, {pos=}'"
   ]
  },
  {
   "cell_type": "code",
   "execution_count": 23,
   "id": "clean-appreciation",
   "metadata": {
    "tags": []
   },
   "outputs": [
    {
     "data": {
      "image/png": "[encoded data removed]",
      "text/plain": [
       "<Figure size 720x432 with 1 Axes>"
      ]
     },
     "metadata": {
      "needs_background": "light"
     },
     "output_type": "display_data"
    }
   ],
   "source": [
    "fig, ax = plt.subplots(figsize=(10, 6))\n",
    "\n",
    "ax.scatter(data[:, 0], data[:, 1])\n",
    "\n",
    "ax.xaxis.set_major_formatter(my_formatter)\n",
    "ax.yaxis.set_major_formatter(my_formatter)"
   ]
  },
  {
   "cell_type": "markdown",
   "id": "amateur-custody",
   "metadata": {
    "tags": []
   },
   "source": [
    "#### Seaborn\n",
    "\n",
    "[Seaborn](https://seaborn.pydata.org/) makes working with dataframes and creating commonly used plots accessible and comfortable."
   ]
  },
  {
   "cell_type": "code",
   "execution_count": 24,
   "id": "above-electronics",
   "metadata": {
    "tags": []
   },
   "outputs": [],
   "source": [
    "import seaborn as sns"
   ]
  },
  {
   "cell_type": "code",
   "execution_count": 25,
   "id": "naval-alexandria",
   "metadata": {
    "tags": []
   },
   "outputs": [
    {
     "data": {
      "text/html": [
       "<div>\n",
       "<style scoped>\n",
       "    .dataframe tbody tr th:only-of-type {\n",
       "        vertical-align: middle;\n",
       "    }\n",
       "\n",
       "    .dataframe tbody tr th {\n",
       "        vertical-align: top;\n",
       "    }\n",
       "\n",
       "    .dataframe thead th {\n",
       "        text-align: right;\n",
       "    }\n",
       "</style>\n",
       "<table border=\"1\" class=\"dataframe\">\n",
       "  <thead>\n",
       "    <tr style=\"text-align: right;\">\n",
       "      <th></th>\n",
       "      <th>group</th>\n",
       "      <th>variable</th>\n",
       "      <th>value</th>\n",
       "    </tr>\n",
       "  </thead>\n",
       "  <tbody>\n",
       "    <tr>\n",
       "      <th>0</th>\n",
       "      <td>G2</td>\n",
       "      <td>A</td>\n",
       "      <td>-0.831226</td>\n",
       "    </tr>\n",
       "    <tr>\n",
       "      <th>1</th>\n",
       "      <td>G2</td>\n",
       "      <td>A</td>\n",
       "      <td>0.598274</td>\n",
       "    </tr>\n",
       "    <tr>\n",
       "      <th>2</th>\n",
       "      <td>G1</td>\n",
       "      <td>A</td>\n",
       "      <td>0.591981</td>\n",
       "    </tr>\n",
       "    <tr>\n",
       "      <th>3</th>\n",
       "      <td>G1</td>\n",
       "      <td>A</td>\n",
       "      <td>1.051093</td>\n",
       "    </tr>\n",
       "    <tr>\n",
       "      <th>4</th>\n",
       "      <td>G2</td>\n",
       "      <td>A</td>\n",
       "      <td>0.753103</td>\n",
       "    </tr>\n",
       "  </tbody>\n",
       "</table>\n",
       "</div>"
      ],
      "text/plain": [
       "  group variable     value\n",
       "0    G2        A -0.831226\n",
       "1    G2        A  0.598274\n",
       "2    G1        A  0.591981\n",
       "3    G1        A  1.051093\n",
       "4    G2        A  0.753103"
      ]
     },
     "execution_count": 25,
     "metadata": {},
     "output_type": "execute_result"
    }
   ],
   "source": [
    "# first convert dataframe from wide to long format\n",
    "df_long = pd.melt(df, id_vars=['group'])\n",
    "df_long.head()"
   ]
  },
  {
   "cell_type": "code",
   "execution_count": 26,
   "id": "ceramic-classification",
   "metadata": {
    "tags": []
   },
   "outputs": [
    {
     "data": {
      "text/plain": [
       "<AxesSubplot:xlabel='variable', ylabel='value'>"
      ]
     },
     "execution_count": 26,
     "metadata": {},
     "output_type": "execute_result"
    },
    {
     "data": {
      "image/png": "[encoded data removed]",
      "text/plain": [
       "<Figure size 432x288 with 1 Axes>"
      ]
     },
     "metadata": {
      "needs_background": "light"
     },
     "output_type": "display_data"
    }
   ],
   "source": [
    "sns.boxplot(data=df_long, x='variable', y='value', hue='group')"
   ]
  },
  {
   "cell_type": "markdown",
   "id": "municipal-withdrawal",
   "metadata": {
    "tags": []
   },
   "source": [
    "#### Statannot\n",
    "\n",
    "[Statannot](https://github.com/webermarcolivier/statannot) can be used to quickly add markers of significance to comparison plots."
   ]
  },
  {
   "cell_type": "code",
   "execution_count": 27,
   "id": "practical-server",
   "metadata": {
    "tags": []
   },
   "outputs": [],
   "source": [
    "import statannot"
   ]
  },
  {
   "cell_type": "code",
   "execution_count": 28,
   "id": "global-increase",
   "metadata": {
    "tags": []
   },
   "outputs": [
    {
     "name": "stdout",
     "output_type": "stream",
     "text": [
      "B_G1 v.s. B_G2: Mann-Whitney-Wilcoxon test two-sided with Bonferroni correction, P_val=7.224e-01 U_stat=1.300e+03\n"
     ]
    },
    {
     "data": {
      "text/plain": [
       "(<AxesSubplot:xlabel='variable', ylabel='value'>,\n",
       " [<statannot.StatResult.StatResult at 0x13a4ca7c0>])"
      ]
     },
     "execution_count": 28,
     "metadata": {},
     "output_type": "execute_result"
    },
    {
     "data": {
      "image/png": "[encoded data removed]",
      "text/plain": [
       "<Figure size 432x288 with 1 Axes>"
      ]
     },
     "metadata": {
      "needs_background": "light"
     },
     "output_type": "display_data"
    }
   ],
   "source": [
    "ax = sns.boxplot(\n",
    "    data=df_long,\n",
    "    x='variable',\n",
    "    y='value',\n",
    "    hue='group',\n",
    "    order=['A', 'B', 'C'],\n",
    "    hue_order=['G1', 'G2'],\n",
    ")\n",
    "\n",
    "statannot.add_stat_annotation(\n",
    "    ax,\n",
    "    plot='barplot',\n",
    "    data=df_long,\n",
    "    x='variable',\n",
    "    y='value',\n",
    "    hue='group',\n",
    "    order=['A', 'B', 'C'],\n",
    "    hue_order=['G1', 'G2'],\n",
    "    box_pairs=[(('B', 'G1'), ('B', 'G2'))],\n",
    "    text_format='simple',\n",
    "    test='Mann-Whitney',\n",
    ")"
   ]
  },
  {
   "cell_type": "markdown",
   "id": "efficient-conference",
   "metadata": {
    "tags": []
   },
   "source": [
    "#### Brokenaxes\n",
    "\n",
    "[Brokenaxes](https://github.com/bendichter/brokenaxes) can be used to include outliers in a plot without messing up the axis range. Note that this can be quite misleading."
   ]
  },
  {
   "cell_type": "code",
   "execution_count": 29,
   "id": "ceramic-payroll",
   "metadata": {
    "tags": []
   },
   "outputs": [],
   "source": [
    "import brokenaxes"
   ]
  },
  {
   "cell_type": "code",
   "execution_count": 30,
   "id": "metropolitan-pontiac",
   "metadata": {
    "tags": []
   },
   "outputs": [
    {
     "data": {
      "text/plain": [
       "[{'whiskers': [<matplotlib.lines.Line2D at 0x13a64ba60>,\n",
       "   <matplotlib.lines.Line2D at 0x13a64bac0>,\n",
       "   <matplotlib.lines.Line2D at 0x13a656f40>,\n",
       "   <matplotlib.lines.Line2D at 0x13a6632e0>],\n",
       "  'caps': [<matplotlib.lines.Line2D at 0x13a64be20>,\n",
       "   <matplotlib.lines.Line2D at 0x13a6561c0>,\n",
       "   <matplotlib.lines.Line2D at 0x13a663640>,\n",
       "   <matplotlib.lines.Line2D at 0x13a6639a0>],\n",
       "  'boxes': [<matplotlib.lines.Line2D at 0x13a6455b0>,\n",
       "   <matplotlib.lines.Line2D at 0x13a656be0>],\n",
       "  'medians': [<matplotlib.lines.Line2D at 0x13a656520>,\n",
       "   <matplotlib.lines.Line2D at 0x13a663d00>],\n",
       "  'fliers': [<matplotlib.lines.Line2D at 0x13a656880>,\n",
       "   <matplotlib.lines.Line2D at 0x13a66d0a0>],\n",
       "  'means': []},\n",
       " {'whiskers': [<matplotlib.lines.Line2D at 0x13a66d790>,\n",
       "   <matplotlib.lines.Line2D at 0x13a66daf0>,\n",
       "   <matplotlib.lines.Line2D at 0x13a679f70>,\n",
       "   <matplotlib.lines.Line2D at 0x13a684310>],\n",
       "  'caps': [<matplotlib.lines.Line2D at 0x13a66de50>,\n",
       "   <matplotlib.lines.Line2D at 0x13a6791f0>,\n",
       "   <matplotlib.lines.Line2D at 0x13a684670>,\n",
       "   <matplotlib.lines.Line2D at 0x13a6849d0>],\n",
       "  'boxes': [<matplotlib.lines.Line2D at 0x13a66d430>,\n",
       "   <matplotlib.lines.Line2D at 0x13a679c10>],\n",
       "  'medians': [<matplotlib.lines.Line2D at 0x13a679550>,\n",
       "   <matplotlib.lines.Line2D at 0x13a684d30>],\n",
       "  'fliers': [<matplotlib.lines.Line2D at 0x13a6798b0>,\n",
       "   <matplotlib.lines.Line2D at 0x13a6900d0>],\n",
       "  'means': []}]"
      ]
     },
     "execution_count": 30,
     "metadata": {},
     "output_type": "execute_result"
    },
    {
     "data": {
      "image/png": "[encoded data removed]",
      "text/plain": [
       "<Figure size 432x288 with 3 Axes>"
      ]
     },
     "metadata": {
      "needs_background": "light"
     },
     "output_type": "display_data"
    }
   ],
   "source": [
    "bax = brokenaxes.brokenaxes(ylims=((0, 20), (90, 110)))\n",
    "bax.boxplot([np.random.normal(10, size=100), np.random.normal(100, size=100)])"
   ]
  },
  {
   "cell_type": "markdown",
   "id": "lonely-florist",
   "metadata": {
    "tags": []
   },
   "source": [
    "#### Adjusttext\n",
    "\n",
    "[Adjusttext](https://github.com/Phlya/adjustText) can help for plots with many labels which potentially overlap."
   ]
  },
  {
   "cell_type": "code",
   "execution_count": 31,
   "id": "median-worst",
   "metadata": {
    "tags": []
   },
   "outputs": [],
   "source": [
    "from adjustText import adjust_text"
   ]
  },
  {
   "cell_type": "code",
   "execution_count": 32,
   "id": "killing-christopher",
   "metadata": {
    "tags": []
   },
   "outputs": [
    {
     "data": {
      "text/plain": [
       "15"
      ]
     },
     "execution_count": 32,
     "metadata": {},
     "output_type": "execute_result"
    },
    {
     "data": {
      "image/png": "[encoded data removed]",
      "text/plain": [
       "<Figure size 1152x432 with 2 Axes>"
      ]
     },
     "metadata": {
      "needs_background": "light"
     },
     "output_type": "display_data"
    }
   ],
   "source": [
    "data_sub = data[:40, :]\n",
    "fig, (ax_raw, ax_adj) = plt.subplots(nrows=1, ncols=2, figsize=(16, 6))\n",
    "\n",
    "ax_raw.scatter(data_sub[:, 0], data_sub[:, 1])\n",
    "[\n",
    "    ax_raw.annotate(f'{round(x, 1)},{round(y, 1)}', xy=(x, y))\n",
    "    for x, y in data_sub[:, [0, 1]]\n",
    "]\n",
    "\n",
    "ax_adj.scatter(data_sub[:, 0], data_sub[:, 1])\n",
    "adjust_text(\n",
    "    [\n",
    "        ax_adj.annotate(f'{round(x, 1)},{round(y, 1)}', xy=(x, y))\n",
    "        for x, y in data_sub[:, [0, 1]]\n",
    "    ],\n",
    "    arrowprops=dict(arrowstyle='->'),\n",
    ")"
   ]
  },
  {
   "cell_type": "markdown",
   "id": "harmful-dialogue",
   "metadata": {
    "tags": []
   },
   "source": [
    "#### Plotnine\n",
    "\n",
    "While matplotlib's pyplot provides a similar plotting interface as MATLAB, [plotnine](https://github.com/has2k1/plotnine) implements a grammar of graphics and is (in ideology) based on R's [ggplot2](https://github.com/tidyverse/ggplot2)."
   ]
  },
  {
   "cell_type": "code",
   "execution_count": 33,
   "id": "dutch-oliver",
   "metadata": {
    "tags": []
   },
   "outputs": [],
   "source": [
    "import plotnine"
   ]
  },
  {
   "cell_type": "code",
   "execution_count": 34,
   "id": "minor-arrangement",
   "metadata": {
    "tags": []
   },
   "outputs": [
    {
     "data": {
      "image/png": "[encoded data removed]",
      "text/plain": [
       "<Figure size 640x480 with 2 Axes>"
      ]
     },
     "metadata": {
      "needs_background": "light"
     },
     "output_type": "display_data"
    },
    {
     "data": {
      "text/plain": [
       "<ggplot: (335075211)>"
      ]
     },
     "execution_count": 34,
     "metadata": {},
     "output_type": "execute_result"
    }
   ],
   "source": [
    "(\n",
    "    plotnine.ggplot(df_long, plotnine.aes(x='variable', y='value', color='group'))\n",
    "    + plotnine.geom_boxplot()\n",
    "    + plotnine.facet_wrap('~group')\n",
    "    + plotnine.theme_minimal()\n",
    ")"
   ]
  },
  {
   "cell_type": "markdown",
   "id": "sealed-papua",
   "metadata": {
    "tags": []
   },
   "source": [
    "#### Folium\n",
    "\n",
    "[Folium](https://github.com/python-visualization/folium) is a Python wrapper of the [Leaflet.js](https://leafletjs.com/) library to visualize dynamic maps."
   ]
  },
  {
   "cell_type": "code",
   "execution_count": 35,
   "id": "plain-married",
   "metadata": {
    "tags": []
   },
   "outputs": [],
   "source": [
    "import folium"
   ]
  },
  {
   "cell_type": "code",
   "execution_count": 36,
   "id": "related-belgium",
   "metadata": {
    "tags": []
   },
   "outputs": [
    {
     "data": {
      "text/html": [
       "<div style=\"width:100%;\"><div style=\"position:relative;width:100%;height:0;padding-bottom:60%;\"><span style=\"color:#565656\">Make this Notebook Trusted to load map: File -> Trust Notebook</span><iframe src=\"about:blank\" style=\"position:absolute;width:100%;height:100%;left:0;top:0;border:none !important;\" data-html=%3C%21DOCTYPE%20html%3E%0A%3Chead%3E%20%20%20%20%0A%20%20%20%20%3Cmeta%20http-equiv%3D%22content-type%22%20content%3D%22text/html%3B%20charset%3DUTF-8%22%20/%3E%0A%20%20%20%20%0A%20%20%20%20%20%20%20%20%3Cscript%3E%0A%20%20%20%20%20%20%20%20%20%20%20%20L_NO_TOUCH%20%3D%20false%3B%0A%20%20%20%20%20%20%20%20%20%20%20%20L_DISABLE_3D%20%3D%20false%3B%0A%20%20%20%20%20%20%20%20%3C/script%3E%0A%20%20%20%20%0A%20%20%20%20%3Cstyle%3Ehtml%2C%20body%20%7Bwidth%3A%20100%25%3Bheight%3A%20100%25%3Bmargin%3A%200%3Bpadding%3A%200%3B%7D%3C/style%3E%0A%20%20%20%20%3Cstyle%3E%23map%20%7Bposition%3Aabsolute%3Btop%3A0%3Bbottom%3A0%3Bright%3A0%3Bleft%3A0%3B%7D%3C/style%3E%0A%20%20%20%20%3Cscript%20src%3D%22https%3A//cdn.jsdelivr.net/npm/leaflet%401.6.0/dist/leaflet.js%22%3E%3C/script%3E%0A%20%20%20%20%3Cscript%20src%3D%22https%3A//code.jquery.com/jquery-1.12.4.min.js%22%3E%3C/script%3E%0A%20%20%20%20%3Cscript%20src%3D%22https%3A//maxcdn.bootstrapcdn.com/bootstrap/3.2.0/js/bootstrap.min.js%22%3E%3C/script%3E%0A%20%20%20%20%3Cscript%20src%3D%22https%3A//cdnjs.cloudflare.com/ajax/libs/Leaflet.awesome-markers/2.0.2/leaflet.awesome-markers.js%22%3E%3C/script%3E%0A%20%20%20%20%3Clink%20rel%3D%22stylesheet%22%20href%3D%22https%3A//cdn.jsdelivr.net/npm/leaflet%401.6.0/dist/leaflet.css%22/%3E%0A%20%20%20%20%3Clink%20rel%3D%22stylesheet%22%20href%3D%22https%3A//maxcdn.bootstrapcdn.com/bootstrap/3.2.0/css/bootstrap.min.css%22/%3E%0A%20%20%20%20%3Clink%20rel%3D%22stylesheet%22%20href%3D%22https%3A//maxcdn.bootstrapcdn.com/bootstrap/3.2.0/css/bootstrap-theme.min.css%22/%3E%0A%20%20%20%20%3Clink%20rel%3D%22stylesheet%22%20href%3D%22https%3A//maxcdn.bootstrapcdn.com/font-awesome/4.6.3/css/font-awesome.min.css%22/%3E%0A%20%20%20%20%3Clink%20rel%3D%22stylesheet%22%20href%3D%22https%3A//cdnjs.cloudflare.com/ajax/libs/Leaflet.awesome-markers/2.0.2/leaflet.awesome-markers.css%22/%3E%0A%20%20%20%20%3Clink%20rel%3D%22stylesheet%22%20href%3D%22https%3A//cdn.jsdelivr.net/gh/python-visualization/folium/folium/templates/leaflet.awesome.rotate.min.css%22/%3E%0A%20%20%20%20%0A%20%20%20%20%20%20%20%20%20%20%20%20%3Cmeta%20name%3D%22viewport%22%20content%3D%22width%3Ddevice-width%2C%0A%20%20%20%20%20%20%20%20%20%20%20%20%20%20%20%20initial-scale%3D1.0%2C%20maximum-scale%3D1.0%2C%20user-scalable%3Dno%22%20/%3E%0A%20%20%20%20%20%20%20%20%20%20%20%20%3Cstyle%3E%0A%20%20%20%20%20%20%20%20%20%20%20%20%20%20%20%20%23map_2ec3ad100a5f4d9087087b9492fd5661%20%7B%0A%20%20%20%20%20%20%20%20%20%20%20%20%20%20%20%20%20%20%20%20position%3A%20relative%3B%0A%20%20%20%20%20%20%20%20%20%20%20%20%20%20%20%20%20%20%20%20width%3A%20500.0px%3B%0A%20%20%20%20%20%20%20%20%20%20%20%20%20%20%20%20%20%20%20%20height%3A%20500.0px%3B%0A%20%20%20%20%20%20%20%20%20%20%20%20%20%20%20%20%20%20%20%20left%3A%200.0%25%3B%0A%20%20%20%20%20%20%20%20%20%20%20%20%20%20%20%20%20%20%20%20top%3A%200.0%25%3B%0A%20%20%20%20%20%20%20%20%20%20%20%20%20%20%20%20%7D%0A%20%20%20%20%20%20%20%20%20%20%20%20%3C/style%3E%0A%20%20%20%20%20%20%20%20%0A%3C/head%3E%0A%3Cbody%3E%20%20%20%20%0A%20%20%20%20%0A%20%20%20%20%20%20%20%20%20%20%20%20%3Cdiv%20class%3D%22folium-map%22%20id%3D%22map_2ec3ad100a5f4d9087087b9492fd5661%22%20%3E%3C/div%3E%0A%20%20%20%20%20%20%20%20%0A%3C/body%3E%0A%3Cscript%3E%20%20%20%20%0A%20%20%20%20%0A%20%20%20%20%20%20%20%20%20%20%20%20var%20map_2ec3ad100a5f4d9087087b9492fd5661%20%3D%20L.map%28%0A%20%20%20%20%20%20%20%20%20%20%20%20%20%20%20%20%22map_2ec3ad100a5f4d9087087b9492fd5661%22%2C%0A%20%20%20%20%20%20%20%20%20%20%20%20%20%20%20%20%7B%0A%20%20%20%20%20%20%20%20%20%20%20%20%20%20%20%20%20%20%20%20center%3A%20%5B69.9873468062093%2C%2025.357268429156537%5D%2C%0A%20%20%20%20%20%20%20%20%20%20%20%20%20%20%20%20%20%20%20%20crs%3A%20L.CRS.EPSG3857%2C%0A%20%20%20%20%20%20%20%20%20%20%20%20%20%20%20%20%20%20%20%20zoom%3A%207%2C%0A%20%20%20%20%20%20%20%20%20%20%20%20%20%20%20%20%20%20%20%20zoomControl%3A%20true%2C%0A%20%20%20%20%20%20%20%20%20%20%20%20%20%20%20%20%20%20%20%20preferCanvas%3A%20false%2C%0A%20%20%20%20%20%20%20%20%20%20%20%20%20%20%20%20%7D%0A%20%20%20%20%20%20%20%20%20%20%20%20%29%3B%0A%0A%20%20%20%20%20%20%20%20%20%20%20%20%0A%0A%20%20%20%20%20%20%20%20%0A%20%20%20%20%0A%20%20%20%20%20%20%20%20%20%20%20%20var%20tile_layer_2c66858c77714a08b5a642f3a986a6b7%20%3D%20L.tileLayer%28%0A%20%20%20%20%20%20%20%20%20%20%20%20%20%20%20%20%22https%3A//%7Bs%7D.tile.openstreetmap.org/%7Bz%7D/%7Bx%7D/%7By%7D.png%22%2C%0A%20%20%20%20%20%20%20%20%20%20%20%20%20%20%20%20%7B%22attribution%22%3A%20%22Data%20by%20%5Cu0026copy%3B%20%5Cu003ca%20href%3D%5C%22http%3A//openstreetmap.org%5C%22%5Cu003eOpenStreetMap%5Cu003c/a%5Cu003e%2C%20under%20%5Cu003ca%20href%3D%5C%22http%3A//www.openstreetmap.org/copyright%5C%22%5Cu003eODbL%5Cu003c/a%5Cu003e.%22%2C%20%22detectRetina%22%3A%20false%2C%20%22maxNativeZoom%22%3A%2018%2C%20%22maxZoom%22%3A%2018%2C%20%22minZoom%22%3A%200%2C%20%22noWrap%22%3A%20false%2C%20%22opacity%22%3A%201%2C%20%22subdomains%22%3A%20%22abc%22%2C%20%22tms%22%3A%20false%7D%0A%20%20%20%20%20%20%20%20%20%20%20%20%29.addTo%28map_2ec3ad100a5f4d9087087b9492fd5661%29%3B%0A%20%20%20%20%20%20%20%20%0A%3C/script%3E onload=\"this.contentDocument.open();this.contentDocument.write(    decodeURIComponent(this.getAttribute('data-html')));this.contentDocument.close();\" allowfullscreen webkitallowfullscreen mozallowfullscreen></iframe></div></div>"
      ],
      "text/plain": [
       "<folium.folium.Map at 0x1400477f0>"
      ]
     },
     "execution_count": 36,
     "metadata": {},
     "output_type": "execute_result"
    }
   ],
   "source": [
    "folium.Map(\n",
    "    location=[np.random.uniform(40, 70), np.random.uniform(10, 30)],\n",
    "    zoom_start=7,\n",
    "    width=500,\n",
    "    height=500,\n",
    ")"
   ]
  },
  {
   "cell_type": "markdown",
   "id": "competitive-induction",
   "metadata": {
    "tags": []
   },
   "source": [
    "#### Ahlive\n",
    "\n",
    "Creating animated visualizations becomes easy and fun with [ahlive](https://ahlive.readthedocs.io/en/latest/)."
   ]
  },
  {
   "cell_type": "code",
   "execution_count": 37,
   "id": "practical-yukon",
   "metadata": {
    "tags": []
   },
   "outputs": [],
   "source": [
    "import ahlive as ah"
   ]
  },
  {
   "cell_type": "code",
   "execution_count": 38,
   "id": "caring-thread",
   "metadata": {
    "tags": []
   },
   "outputs": [
    {
     "name": "stdout",
     "output_type": "stream",
     "text": [
      "\r",
      "[#######                                 ] | 17% Completed |  1.1s"
     ]
    },
    {
     "name": "stdout",
     "output_type": "stream",
     "text": [
      "\r",
      "[########                                ] | 20% Completed |  1.2s"
     ]
    },
    {
     "name": "stdout",
     "output_type": "stream",
     "text": [
      "\r",
      "[########                                ] | 20% Completed |  1.3s"
     ]
    },
    {
     "name": "stdout",
     "output_type": "stream",
     "text": [
      "\r",
      "[#########                               ] | 22% Completed |  1.4s"
     ]
    },
    {
     "name": "stdout",
     "output_type": "stream",
     "text": [
      "\r",
      "[##########                              ] | 25% Completed |  1.5s"
     ]
    },
    {
     "name": "stdout",
     "output_type": "stream",
     "text": [
      "\r",
      "[###########                             ] | 27% Completed |  1.6s"
     ]
    },
    {
     "name": "stdout",
     "output_type": "stream",
     "text": [
      "\r",
      "[###########                             ] | 27% Completed |  1.7s"
     ]
    },
    {
     "name": "stdout",
     "output_type": "stream",
     "text": [
      "\r",
      "[############                            ] | 30% Completed |  1.8s"
     ]
    },
    {
     "name": "stdout",
     "output_type": "stream",
     "text": [
      "\r",
      "[############                            ] | 30% Completed |  1.9s"
     ]
    },
    {
     "name": "stdout",
     "output_type": "stream",
     "text": [
      "\r",
      "[#############                           ] | 32% Completed |  2.0s"
     ]
    },
    {
     "name": "stdout",
     "output_type": "stream",
     "text": [
      "\r",
      "[##############                          ] | 35% Completed |  2.1s"
     ]
    },
    {
     "name": "stdout",
     "output_type": "stream",
     "text": [
      "\r",
      "[###############                         ] | 37% Completed |  2.2s"
     ]
    },
    {
     "name": "stdout",
     "output_type": "stream",
     "text": [
      "\r",
      "[################                        ] | 40% Completed |  2.3s"
     ]
    },
    {
     "name": "stdout",
     "output_type": "stream",
     "text": [
      "\r",
      "[################                        ] | 40% Completed |  2.5s"
     ]
    },
    {
     "name": "stdout",
     "output_type": "stream",
     "text": [
      "\r",
      "[#################                       ] | 42% Completed |  2.6s"
     ]
    },
    {
     "name": "stdout",
     "output_type": "stream",
     "text": [
      "\r",
      "[##################                      ] | 45% Completed |  2.7s"
     ]
    },
    {
     "name": "stdout",
     "output_type": "stream",
     "text": [
      "\r",
      "[###################                     ] | 47% Completed |  2.8s"
     ]
    },
    {
     "name": "stdout",
     "output_type": "stream",
     "text": [
      "\r",
      "[####################                    ] | 50% Completed |  2.9s"
     ]
    },
    {
     "name": "stdout",
     "output_type": "stream",
     "text": [
      "\r",
      "[#####################                   ] | 52% Completed |  3.1s"
     ]
    },
    {
     "name": "stdout",
     "output_type": "stream",
     "text": [
      "\r",
      "[#####################                   ] | 52% Completed |  3.2s"
     ]
    },
    {
     "name": "stdout",
     "output_type": "stream",
     "text": [
      "\r",
      "[######################                  ] | 55% Completed |  3.3s"
     ]
    },
    {
     "name": "stdout",
     "output_type": "stream",
     "text": [
      "\r",
      "[#######################                 ] | 57% Completed |  3.4s"
     ]
    },
    {
     "name": "stdout",
     "output_type": "stream",
     "text": [
      "\r",
      "[########################                ] | 60% Completed |  3.5s"
     ]
    },
    {
     "name": "stdout",
     "output_type": "stream",
     "text": [
      "\r",
      "[#########################               ] | 62% Completed |  3.6s"
     ]
    },
    {
     "name": "stdout",
     "output_type": "stream",
     "text": [
      "\r",
      "[#########################               ] | 62% Completed |  3.7s"
     ]
    },
    {
     "name": "stdout",
     "output_type": "stream",
     "text": [
      "\r",
      "[##########################              ] | 65% Completed |  3.8s"
     ]
    },
    {
     "name": "stdout",
     "output_type": "stream",
     "text": [
      "\r",
      "[###########################             ] | 67% Completed |  3.9s"
     ]
    },
    {
     "name": "stdout",
     "output_type": "stream",
     "text": [
      "\r",
      "[############################            ] | 70% Completed |  4.0s"
     ]
    },
    {
     "name": "stdout",
     "output_type": "stream",
     "text": [
      "\r",
      "[#############################           ] | 72% Completed |  4.2s"
     ]
    },
    {
     "name": "stdout",
     "output_type": "stream",
     "text": [
      "\r",
      "[#############################           ] | 72% Completed |  4.3s"
     ]
    },
    {
     "name": "stdout",
     "output_type": "stream",
     "text": [
      "\r",
      "[##############################          ] | 75% Completed |  4.4s"
     ]
    },
    {
     "name": "stdout",
     "output_type": "stream",
     "text": [
      "\r",
      "[###############################         ] | 77% Completed |  4.5s"
     ]
    },
    {
     "name": "stdout",
     "output_type": "stream",
     "text": [
      "\r",
      "[################################        ] | 80% Completed |  4.6s"
     ]
    },
    {
     "name": "stdout",
     "output_type": "stream",
     "text": [
      "\r",
      "[################################        ] | 80% Completed |  4.7s"
     ]
    },
    {
     "name": "stdout",
     "output_type": "stream",
     "text": [
      "\r",
      "[#################################       ] | 82% Completed |  4.8s"
     ]
    },
    {
     "name": "stdout",
     "output_type": "stream",
     "text": [
      "\r",
      "[##################################      ] | 85% Completed |  4.9s"
     ]
    },
    {
     "name": "stdout",
     "output_type": "stream",
     "text": [
      "\r",
      "[###################################     ] | 87% Completed |  5.0s"
     ]
    },
    {
     "name": "stdout",
     "output_type": "stream",
     "text": [
      "\r",
      "[####################################    ] | 90% Completed |  5.2s"
     ]
    },
    {
     "name": "stdout",
     "output_type": "stream",
     "text": [
      "\r",
      "[####################################    ] | 90% Completed |  5.3s"
     ]
    },
    {
     "name": "stdout",
     "output_type": "stream",
     "text": [
      "\r",
      "[#####################################   ] | 92% Completed |  5.4s"
     ]
    },
    {
     "name": "stdout",
     "output_type": "stream",
     "text": [
      "\r",
      "[######################################  ] | 95% Completed |  5.5s"
     ]
    },
    {
     "name": "stdout",
     "output_type": "stream",
     "text": [
      "\r",
      "[######################################  ] | 95% Completed |  5.7s"
     ]
    },
    {
     "name": "stdout",
     "output_type": "stream",
     "text": [
      "\r",
      "[####################################### ] | 97% Completed |  5.8s"
     ]
    },
    {
     "name": "stdout",
     "output_type": "stream",
     "text": [
      "\r",
      "[########################################] | 100% Completed |  5.9s"
     ]
    },
    {
     "name": "stdout",
     "output_type": "stream",
     "text": [
      "\n"
     ]
    },
    {
     "data": {
      "text/html": [
       "<img src=\"data:image/gif;base64,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\" />"
      ],
      "text/plain": [
       "<IPython.core.display.HTML object>"
      ]
     },
     "execution_count": 38,
     "metadata": {},
     "output_type": "execute_result"
    }
   ],
   "source": [
    "adf = ah.DataFrame(pd.DataFrame({'A': [1, 2, 3], 'B': [1, 2, 3]}), xs='A', ys='B')\n",
    "\n",
    "adf.render()"
   ]
  },
  {
   "cell_type": "markdown",
   "id": "verbal-blues",
   "metadata": {
    "tags": []
   },
   "source": [
    "### High performance\n",
    "\n",
    "When dealing with large amounts of data or many computations, it can make sense to optimize hotspots in C++ or use specialized libraries."
   ]
  },
  {
   "cell_type": "markdown",
   "id": "imperial-pillow",
   "metadata": {
    "tags": []
   },
   "source": [
    "#### Dask\n",
    "\n",
    "[Dask](https://github.com/dask/dask) provides a Panda's like interface to high-performance dataframes which support out-of-memory processing, cluster distribution, and more.\n",
    "It is particularly useful when the dataframe does not fit in RAM anymore. Common operations operate on chunks of the dataframe and are only executed when explicitly requested."
   ]
  },
  {
   "cell_type": "code",
   "execution_count": 39,
   "id": "little-shower",
   "metadata": {
    "tags": []
   },
   "outputs": [],
   "source": [
    "import dask.dataframe as dd"
   ]
  },
  {
   "cell_type": "code",
   "execution_count": 40,
   "id": "living-acting",
   "metadata": {
    "tags": []
   },
   "outputs": [],
   "source": [
    "df = pd.DataFrame(np.random.normal(size=(1_000_000, 2)), columns=['A', 'B'])"
   ]
  },
  {
   "cell_type": "code",
   "execution_count": 41,
   "id": "pending-demonstration",
   "metadata": {
    "tags": []
   },
   "outputs": [
    {
     "data": {
      "text/html": [
       "<div>\n",
       "<style scoped>\n",
       "    .dataframe tbody tr th:only-of-type {\n",
       "        vertical-align: middle;\n",
       "    }\n",
       "\n",
       "    .dataframe tbody tr th {\n",
       "        vertical-align: top;\n",
       "    }\n",
       "\n",
       "    .dataframe thead th {\n",
       "        text-align: right;\n",
       "    }\n",
       "</style>\n",
       "<table border=\"1\" class=\"dataframe\">\n",
       "  <thead>\n",
       "    <tr style=\"text-align: right;\">\n",
       "      <th></th>\n",
       "      <th>A</th>\n",
       "      <th>B</th>\n",
       "    </tr>\n",
       "  </thead>\n",
       "  <tbody>\n",
       "    <tr>\n",
       "      <th>0</th>\n",
       "      <td>-1.521738</td>\n",
       "      <td>1.878972</td>\n",
       "    </tr>\n",
       "    <tr>\n",
       "      <th>1</th>\n",
       "      <td>0.544287</td>\n",
       "      <td>-1.091694</td>\n",
       "    </tr>\n",
       "    <tr>\n",
       "      <th>2</th>\n",
       "      <td>-0.621435</td>\n",
       "      <td>0.073227</td>\n",
       "    </tr>\n",
       "    <tr>\n",
       "      <th>3</th>\n",
       "      <td>1.811112</td>\n",
       "      <td>1.151520</td>\n",
       "    </tr>\n",
       "    <tr>\n",
       "      <th>4</th>\n",
       "      <td>-0.423793</td>\n",
       "      <td>0.508846</td>\n",
       "    </tr>\n",
       "  </tbody>\n",
       "</table>\n",
       "</div>"
      ],
      "text/plain": [
       "          A         B\n",
       "0 -1.521738  1.878972\n",
       "1  0.544287 -1.091694\n",
       "2 -0.621435  0.073227\n",
       "3  1.811112  1.151520\n",
       "4 -0.423793  0.508846"
      ]
     },
     "execution_count": 41,
     "metadata": {},
     "output_type": "execute_result"
    }
   ],
   "source": [
    "ddf = dd.from_pandas(df, npartitions=4)\n",
    "ddf.head()"
   ]
  },
  {
   "cell_type": "code",
   "execution_count": 42,
   "id": "cultural-remove",
   "metadata": {
    "tags": []
   },
   "outputs": [
    {
     "data": {
      "text/plain": [
       "Dask Series Structure:\n",
       "npartitions=4\n",
       "0         float64\n",
       "250000        ...\n",
       "500000        ...\n",
       "750000        ...\n",
       "999999        ...\n",
       "dtype: float64\n",
       "Dask Name: add, 16 tasks"
      ]
     },
     "execution_count": 42,
     "metadata": {},
     "output_type": "execute_result"
    }
   ],
   "source": [
    "ddf['A'] + ddf['B']"
   ]
  },
  {
   "cell_type": "code",
   "execution_count": 43,
   "id": "miniature-watson",
   "metadata": {
    "tags": []
   },
   "outputs": [
    {
     "data": {
      "text/plain": [
       "0         0.357233\n",
       "1        -0.547407\n",
       "2        -0.548209\n",
       "3         2.962632\n",
       "4         0.085053\n",
       "            ...   \n",
       "999995    0.550578\n",
       "999996    0.415823\n",
       "999997   -1.329906\n",
       "999998   -1.224304\n",
       "999999   -1.822986\n",
       "Length: 1000000, dtype: float64"
      ]
     },
     "execution_count": 43,
     "metadata": {},
     "output_type": "execute_result"
    }
   ],
   "source": [
    "(ddf['A'] + ddf['B']).compute()"
   ]
  },
  {
   "cell_type": "markdown",
   "id": "welcome-federal",
   "metadata": {
    "tags": []
   },
   "source": [
    "#### Vaex\n",
    "\n",
    "[Vaex](https://github.com/vaexio/vaex) fills a similar niche as dask and makes working with out-of-core dataframe easy.\n",
    "It has a slightly more intuitive interface and offers many cool visualizations right out of the box."
   ]
  },
  {
   "cell_type": "code",
   "execution_count": 44,
   "id": "union-aging",
   "metadata": {
    "tags": []
   },
   "outputs": [],
   "source": [
    "import vaex as vx"
   ]
  },
  {
   "cell_type": "code",
   "execution_count": 45,
   "id": "sustained-aspect",
   "metadata": {
    "tags": []
   },
   "outputs": [
    {
     "data": {
      "text/html": [
       "<table>\n",
       "<thead>\n",
       "<tr><th>#                            </th><th style=\"text-align: right;\">         A</th><th style=\"text-align: right;\">         B</th></tr>\n",
       "</thead>\n",
       "<tbody>\n",
       "<tr><td><i style='opacity: 0.6'>0</i></td><td style=\"text-align: right;\">-1.52174  </td><td style=\"text-align: right;\"> 1.87897  </td></tr>\n",
       "<tr><td><i style='opacity: 0.6'>1</i></td><td style=\"text-align: right;\"> 0.544287 </td><td style=\"text-align: right;\">-1.09169  </td></tr>\n",
       "<tr><td><i style='opacity: 0.6'>2</i></td><td style=\"text-align: right;\">-0.621435 </td><td style=\"text-align: right;\"> 0.0732265</td></tr>\n",
       "<tr><td><i style='opacity: 0.6'>3</i></td><td style=\"text-align: right;\"> 1.81111  </td><td style=\"text-align: right;\"> 1.15152  </td></tr>\n",
       "<tr><td><i style='opacity: 0.6'>4</i></td><td style=\"text-align: right;\">-0.423793 </td><td style=\"text-align: right;\"> 0.508846 </td></tr>\n",
       "<tr><td><i style='opacity: 0.6'>5</i></td><td style=\"text-align: right;\">-1.07114  </td><td style=\"text-align: right;\">-1.27907  </td></tr>\n",
       "<tr><td><i style='opacity: 0.6'>6</i></td><td style=\"text-align: right;\"> 0.132347 </td><td style=\"text-align: right;\">-0.509001 </td></tr>\n",
       "<tr><td><i style='opacity: 0.6'>7</i></td><td style=\"text-align: right;\">-0.0971256</td><td style=\"text-align: right;\"> 0.957971 </td></tr>\n",
       "<tr><td><i style='opacity: 0.6'>8</i></td><td style=\"text-align: right;\">-1.12176  </td><td style=\"text-align: right;\">-0.0574305</td></tr>\n",
       "<tr><td><i style='opacity: 0.6'>9</i></td><td style=\"text-align: right;\">-0.484892 </td><td style=\"text-align: right;\">-0.952426 </td></tr>\n",
       "</tbody>\n",
       "</table>"
      ],
      "text/plain": [
       "  #           A           B\n",
       "  0  -1.52174     1.87897\n",
       "  1   0.544287   -1.09169\n",
       "  2  -0.621435    0.0732265\n",
       "  3   1.81111     1.15152\n",
       "  4  -0.423793    0.508846\n",
       "  5  -1.07114    -1.27907\n",
       "  6   0.132347   -0.509001\n",
       "  7  -0.0971256   0.957971\n",
       "  8  -1.12176    -0.0574305\n",
       "  9  -0.484892   -0.952426"
      ]
     },
     "execution_count": 45,
     "metadata": {},
     "output_type": "execute_result"
    }
   ],
   "source": [
    "vdf = vx.from_pandas(df)\n",
    "vdf.head()"
   ]
  },
  {
   "cell_type": "code",
   "execution_count": 46,
   "id": "atmospheric-queensland",
   "metadata": {
    "tags": []
   },
   "outputs": [
    {
     "data": {
      "text/plain": [
       "Expression = (A + B)\n",
       "Length: 1,000,000 dtype: float64 (expression)\n",
       "---------------------------------------------\n",
       "     0   0.357233\n",
       "     1  -0.547407\n",
       "     2  -0.548209\n",
       "     3    2.96263\n",
       "     4  0.0850533\n",
       "       ...       \n",
       "999995   0.550578\n",
       "999996   0.415823\n",
       "999997   -1.32991\n",
       "999998    -1.2243\n",
       "999999   -1.82299"
      ]
     },
     "execution_count": 46,
     "metadata": {},
     "output_type": "execute_result"
    }
   ],
   "source": [
    "vdf['A'] + vdf['B']"
   ]
  },
  {
   "cell_type": "code",
   "execution_count": 47,
   "id": "crazy-boost",
   "metadata": {
    "tags": []
   },
   "outputs": [
    {
     "data": {
      "text/plain": [
       "<matplotlib.image.AxesImage at 0x146dfe100>"
      ]
     },
     "execution_count": 47,
     "metadata": {},
     "output_type": "execute_result"
    },
    {
     "data": {
      "image/png": "[encoded data removed]",
      "text/plain": [
       "<Figure size 432x288 with 2 Axes>"
      ]
     },
     "metadata": {
      "needs_background": "light"
     },
     "output_type": "display_data"
    }
   ],
   "source": [
    "vdf.plot(vdf['A'], vdf['B'])"
   ]
  },
  {
   "cell_type": "markdown",
   "id": "mediterranean-tyler",
   "metadata": {
    "tags": []
   },
   "source": [
    "#### Joblib\n",
    "\n",
    "[Joblib](https://github.com/joblib/joblib) makes executing functions in parallel very easy and removes boilerplate code."
   ]
  },
  {
   "cell_type": "code",
   "execution_count": 48,
   "id": "peripheral-supply",
   "metadata": {
    "tags": []
   },
   "outputs": [],
   "source": [
    "import time\n",
    "import random\n",
    "\n",
    "import joblib"
   ]
  },
  {
   "cell_type": "code",
   "execution_count": 49,
   "id": "assigned-villa",
   "metadata": {
    "tags": []
   },
   "outputs": [],
   "source": [
    "def heavy_function(i):\n",
    "    print(f'{i=}')\n",
    "    time.sleep(random.random())\n",
    "    return i ** i"
   ]
  },
  {
   "cell_type": "code",
   "execution_count": 50,
   "id": "cheap-thirty",
   "metadata": {
    "tags": []
   },
   "outputs": [
    {
     "data": {
      "text/plain": [
       "[1, 1, 4, 27, 256, 3125, 46656, 823543, 16777216, 387420489]"
      ]
     },
     "execution_count": 50,
     "metadata": {},
     "output_type": "execute_result"
    }
   ],
   "source": [
    "joblib.Parallel(n_jobs=2)([joblib.delayed(heavy_function)(i) for i in range(10)])"
   ]
  },
  {
   "cell_type": "markdown",
   "id": "nominated-editing",
   "metadata": {
    "tags": []
   },
   "source": [
    "#### Swifter\n",
    "\n",
    "Choosing the correct way of parallelizing your computations can be non-trivial. [Swifter](https://github.com/jmcarpenter2/swifter) tries to automatically select the most suitable one."
   ]
  },
  {
   "cell_type": "code",
   "execution_count": 51,
   "id": "sound-baseball",
   "metadata": {
    "tags": []
   },
   "outputs": [],
   "source": [
    "import swifter"
   ]
  },
  {
   "cell_type": "code",
   "execution_count": 52,
   "id": "sapphire-found",
   "metadata": {
    "tags": []
   },
   "outputs": [
    {
     "data": {
      "text/html": [
       "<div>\n",
       "<style scoped>\n",
       "    .dataframe tbody tr th:only-of-type {\n",
       "        vertical-align: middle;\n",
       "    }\n",
       "\n",
       "    .dataframe tbody tr th {\n",
       "        vertical-align: top;\n",
       "    }\n",
       "\n",
       "    .dataframe thead th {\n",
       "        text-align: right;\n",
       "    }\n",
       "</style>\n",
       "<table border=\"1\" class=\"dataframe\">\n",
       "  <thead>\n",
       "    <tr style=\"text-align: right;\">\n",
       "      <th></th>\n",
       "      <th>A</th>\n",
       "    </tr>\n",
       "  </thead>\n",
       "  <tbody>\n",
       "    <tr>\n",
       "      <th>0</th>\n",
       "      <td>36</td>\n",
       "    </tr>\n",
       "    <tr>\n",
       "      <th>1</th>\n",
       "      <td>36</td>\n",
       "    </tr>\n",
       "    <tr>\n",
       "      <th>2</th>\n",
       "      <td>72</td>\n",
       "    </tr>\n",
       "    <tr>\n",
       "      <th>3</th>\n",
       "      <td>35</td>\n",
       "    </tr>\n",
       "    <tr>\n",
       "      <th>4</th>\n",
       "      <td>95</td>\n",
       "    </tr>\n",
       "  </tbody>\n",
       "</table>\n",
       "</div>"
      ],
      "text/plain": [
       "    A\n",
       "0  36\n",
       "1  36\n",
       "2  72\n",
       "3  35\n",
       "4  95"
      ]
     },
     "execution_count": 52,
     "metadata": {},
     "output_type": "execute_result"
    }
   ],
   "source": [
    "df_big = pd.DataFrame({'A': np.random.randint(0, 100, size=1_000_000)})\n",
    "df_big.head()"
   ]
  },
  {
   "cell_type": "code",
   "execution_count": 53,
   "id": "forbidden-friendly",
   "metadata": {
    "tags": []
   },
   "outputs": [
    {
     "name": "stdout",
     "output_type": "stream",
     "text": [
      "515 ms ± 1.34 ms per loop (mean ± std. dev. of 7 runs, 1 loop each)\n"
     ]
    }
   ],
   "source": [
    "%%timeit\n",
    "df_big['A'].apply(lambda x: x ** 2)"
   ]
  },
  {
   "cell_type": "code",
   "execution_count": 54,
   "id": "bronze-bosnia",
   "metadata": {
    "tags": []
   },
   "outputs": [
    {
     "name": "stdout",
     "output_type": "stream",
     "text": [
      "2.6 ms ± 19.5 µs per loop (mean ± std. dev. of 7 runs, 100 loops each)\n"
     ]
    }
   ],
   "source": [
    "%%timeit\n",
    "df_big['A'].swifter.apply(lambda x: x ** 2)"
   ]
  },
  {
   "cell_type": "markdown",
   "id": "about-michigan",
   "metadata": {
    "tags": []
   },
   "source": [
    "### Bioinformatics"
   ]
  },
  {
   "cell_type": "markdown",
   "id": "compliant-mongolia",
   "metadata": {
    "tags": []
   },
   "source": [
    "#### PyRanges\n",
    "\n",
    "[PyRanges](https://github.com/biocore-ntnu/pyranges) makes working with genomic ranges easy as pie."
   ]
  },
  {
   "cell_type": "code",
   "execution_count": 55,
   "id": "detailed-enhancement",
   "metadata": {
    "tags": []
   },
   "outputs": [],
   "source": [
    "import pyranges as pr"
   ]
  },
  {
   "cell_type": "code",
   "execution_count": 56,
   "id": "earned-theater",
   "metadata": {
    "tags": []
   },
   "outputs": [
    {
     "data": {
      "text/plain": [
       "+--------------+-----------+-----------+-------+\n",
       "| Chromosome   | Start     | End       | +3    |\n",
       "| (category)   | (int32)   | (int32)   | ...   |\n",
       "|--------------+-----------+-----------+-------|\n",
       "| chrX         | 135721701 | 135721963 | ...   |\n",
       "| chrX         | 135574120 | 135574598 | ...   |\n",
       "| chrX         | 47868945  | 47869126  | ...   |\n",
       "| chrX         | 77294333  | 77294480  | ...   |\n",
       "| ...          | ...       | ...       | ...   |\n",
       "| chrY         | 15409586  | 15409728  | ...   |\n",
       "| chrY         | 15478146  | 15478273  | ...   |\n",
       "| chrY         | 15360258  | 15361762  | ...   |\n",
       "| chrY         | 15467254  | 15467278  | ...   |\n",
       "+--------------+-----------+-----------+-------+\n",
       "Stranded PyRanges object has 1,000 rows and 6 columns from 2 chromosomes.\n",
       "For printing, the PyRanges was sorted on Chromosome and Strand.\n",
       "3 hidden columns: Name, Score, Strand"
      ]
     },
     "execution_count": 56,
     "metadata": {},
     "output_type": "execute_result"
    }
   ],
   "source": [
    "df_exons = pr.data.exons()\n",
    "df_exons"
   ]
  },
  {
   "cell_type": "code",
   "execution_count": 57,
   "id": "known-affect",
   "metadata": {
    "tags": []
   },
   "outputs": [
    {
     "data": {
      "text/plain": [
       "+--------------+-----------+-----------+\n",
       "| Chromosome   |     Start |       End |\n",
       "| (category)   |   (int32) |   (int32) |\n",
       "|--------------+-----------+-----------|\n",
       "| chrX         |   1400000 |   1500000 |\n",
       "+--------------+-----------+-----------+\n",
       "Unstranded PyRanges object has 1 rows and 3 columns from 1 chromosomes.\n",
       "For printing, the PyRanges was sorted on Chromosome."
      ]
     },
     "execution_count": 57,
     "metadata": {},
     "output_type": "execute_result"
    }
   ],
   "source": [
    "df_locus = pr.PyRanges(\n",
    "    pd.DataFrame({'Chromosome': ['chrX'], 'Start': [1_400_000], 'End': [1_500_000]})\n",
    ")\n",
    "df_locus"
   ]
  },
  {
   "cell_type": "code",
   "execution_count": 58,
   "id": "assumed-vietnam",
   "metadata": {
    "tags": []
   },
   "outputs": [
    {
     "data": {
      "text/html": [
       "<div>\n",
       "<style scoped>\n",
       "    .dataframe tbody tr th:only-of-type {\n",
       "        vertical-align: middle;\n",
       "    }\n",
       "\n",
       "    .dataframe tbody tr th {\n",
       "        vertical-align: top;\n",
       "    }\n",
       "\n",
       "    .dataframe thead th {\n",
       "        text-align: right;\n",
       "    }\n",
       "</style>\n",
       "<table border=\"1\" class=\"dataframe\">\n",
       "  <thead>\n",
       "    <tr style=\"text-align: right;\">\n",
       "      <th></th>\n",
       "      <th>Chromosome</th>\n",
       "      <th>Start</th>\n",
       "      <th>End</th>\n",
       "      <th>Name</th>\n",
       "      <th>Score</th>\n",
       "      <th>Strand</th>\n",
       "    </tr>\n",
       "  </thead>\n",
       "  <tbody>\n",
       "    <tr>\n",
       "      <th>0</th>\n",
       "      <td>chrX</td>\n",
       "      <td>1475113</td>\n",
       "      <td>1475229</td>\n",
       "      <td>NM_001267713_exon_4_0_chrX_1475114_f</td>\n",
       "      <td>0</td>\n",
       "      <td>+</td>\n",
       "    </tr>\n",
       "    <tr>\n",
       "      <th>1</th>\n",
       "      <td>chrX</td>\n",
       "      <td>1419383</td>\n",
       "      <td>1419519</td>\n",
       "      <td>NM_001161531_exon_9_0_chrX_1419384_f</td>\n",
       "      <td>0</td>\n",
       "      <td>+</td>\n",
       "    </tr>\n",
       "    <tr>\n",
       "      <th>2</th>\n",
       "      <td>chrX</td>\n",
       "      <td>1424338</td>\n",
       "      <td>1424420</td>\n",
       "      <td>NM_006140_exon_11_0_chrX_1424339_f</td>\n",
       "      <td>0</td>\n",
       "      <td>+</td>\n",
       "    </tr>\n",
       "    <tr>\n",
       "      <th>3</th>\n",
       "      <td>chrX</td>\n",
       "      <td>1407651</td>\n",
       "      <td>1407781</td>\n",
       "      <td>NM_001161532_exon_3_0_chrX_1407652_f</td>\n",
       "      <td>0</td>\n",
       "      <td>+</td>\n",
       "    </tr>\n",
       "    <tr>\n",
       "      <th>4</th>\n",
       "      <td>chrX</td>\n",
       "      <td>1404670</td>\n",
       "      <td>1404813</td>\n",
       "      <td>NM_172245_exon_3_0_chrX_1404671_f</td>\n",
       "      <td>0</td>\n",
       "      <td>+</td>\n",
       "    </tr>\n",
       "    <tr>\n",
       "      <th>5</th>\n",
       "      <td>chrX</td>\n",
       "      <td>1424338</td>\n",
       "      <td>1424420</td>\n",
       "      <td>NM_001161530_exon_10_0_chrX_1424339_f</td>\n",
       "      <td>0</td>\n",
       "      <td>+</td>\n",
       "    </tr>\n",
       "    <tr>\n",
       "      <th>6</th>\n",
       "      <td>chrX</td>\n",
       "      <td>1414319</td>\n",
       "      <td>1414349</td>\n",
       "      <td>NM_172245_exon_8_0_chrX_1414320_f</td>\n",
       "      <td>0</td>\n",
       "      <td>+</td>\n",
       "    </tr>\n",
       "    <tr>\n",
       "      <th>7</th>\n",
       "      <td>chrX</td>\n",
       "      <td>1407411</td>\n",
       "      <td>1407535</td>\n",
       "      <td>NM_172249_exon_4_0_chrX_1407412_f</td>\n",
       "      <td>0</td>\n",
       "      <td>+</td>\n",
       "    </tr>\n",
       "  </tbody>\n",
       "</table>\n",
       "</div>"
      ],
      "text/plain": [
       "  Chromosome    Start      End                                   Name  Score  \\\n",
       "0       chrX  1475113  1475229   NM_001267713_exon_4_0_chrX_1475114_f      0   \n",
       "1       chrX  1419383  1419519   NM_001161531_exon_9_0_chrX_1419384_f      0   \n",
       "2       chrX  1424338  1424420     NM_006140_exon_11_0_chrX_1424339_f      0   \n",
       "3       chrX  1407651  1407781   NM_001161532_exon_3_0_chrX_1407652_f      0   \n",
       "4       chrX  1404670  1404813      NM_172245_exon_3_0_chrX_1404671_f      0   \n",
       "5       chrX  1424338  1424420  NM_001161530_exon_10_0_chrX_1424339_f      0   \n",
       "6       chrX  1414319  1414349      NM_172245_exon_8_0_chrX_1414320_f      0   \n",
       "7       chrX  1407411  1407535      NM_172249_exon_4_0_chrX_1407412_f      0   \n",
       "\n",
       "  Strand  \n",
       "0      +  \n",
       "1      +  \n",
       "2      +  \n",
       "3      +  \n",
       "4      +  \n",
       "5      +  \n",
       "6      +  \n",
       "7      +  "
      ]
     },
     "execution_count": 58,
     "metadata": {},
     "output_type": "execute_result"
    }
   ],
   "source": [
    "df_exons.overlap(df_locus).df"
   ]
  },
  {
   "cell_type": "markdown",
   "id": "statutory-party",
   "metadata": {
    "tags": []
   },
   "source": [
    "#### Obonet\n",
    "\n",
    "[Obonet](https://github.com/dhimmel/obonet) is a library for working with (OBO-formatted) ontologies."
   ]
  },
  {
   "cell_type": "code",
   "execution_count": 59,
   "id": "focused-sierra",
   "metadata": {
    "tags": []
   },
   "outputs": [],
   "source": [
    "import obonet"
   ]
  },
  {
   "cell_type": "code",
   "execution_count": 60,
   "id": "radio-mattress",
   "metadata": {
    "tags": []
   },
   "outputs": [],
   "source": [
    "url = 'https://github.com/DiseaseOntology/HumanDiseaseOntology/raw/main/src/ontology/HumanDO.obo'\n",
    "graph = obonet.read_obo(url)"
   ]
  },
  {
   "cell_type": "code",
   "execution_count": 61,
   "id": "adjusted-bonus",
   "metadata": {
    "tags": []
   },
   "outputs": [
    {
     "data": {
      "text/plain": [
       "('DOID:0001816',\n",
       " {'name': 'angiosarcoma',\n",
       "  'alt_id': ['DOID:267', 'DOID:4508'],\n",
       "  'def': '\"A vascular cancer that derives_from the cells that line the walls of blood vessels or lymphatic vessels.\" [url:http\\\\://en.wikipedia.org/wiki/Hemangiosarcoma, url:https\\\\://en.wikipedia.org/wiki/Angiosarcoma, url:https\\\\://ncit.nci.nih.gov/ncitbrowser/ConceptReport.jsp?dictionary=NCI_Thesaurus&ns=ncit&code=C3088, url:https\\\\://www.ncbi.nlm.nih.gov/pubmed/23327728]',\n",
       "  'subset': ['DO_cancer_slim', 'NCIthesaurus'],\n",
       "  'synonym': ['\"hemangiosarcoma\" EXACT []'],\n",
       "  'xref': ['MESH:D006394',\n",
       "   'NCI:C3088',\n",
       "   'NCI:C9275',\n",
       "   'SNOMEDCT_US_2020_09_01:39000009',\n",
       "   'UMLS_CUI:C0018923',\n",
       "   'UMLS_CUI:C0854893'],\n",
       "  'is_a': ['DOID:175']})"
      ]
     },
     "execution_count": 61,
     "metadata": {},
     "output_type": "execute_result"
    }
   ],
   "source": [
    "list(graph.nodes(data=True))[0]"
   ]
  },
  {
   "cell_type": "markdown",
   "id": "recovered-aspect",
   "metadata": {
    "tags": []
   },
   "source": [
    "### Statistics/Machine Learning"
   ]
  },
  {
   "cell_type": "markdown",
   "id": "technical-football",
   "metadata": {
    "tags": []
   },
   "source": [
    "#### Statsmodels\n",
    "\n",
    "[Statsmodels](https://github.com/statsmodels/statsmodels) helps with statistical modelling."
   ]
  },
  {
   "cell_type": "code",
   "execution_count": 62,
   "id": "referenced-liver",
   "metadata": {
    "tags": []
   },
   "outputs": [],
   "source": [
    "import statsmodels.formula.api as smf"
   ]
  },
  {
   "cell_type": "code",
   "execution_count": 63,
   "id": "scheduled-enterprise",
   "metadata": {
    "tags": []
   },
   "outputs": [
    {
     "data": {
      "text/html": [
       "<div>\n",
       "<style scoped>\n",
       "    .dataframe tbody tr th:only-of-type {\n",
       "        vertical-align: middle;\n",
       "    }\n",
       "\n",
       "    .dataframe tbody tr th {\n",
       "        vertical-align: top;\n",
       "    }\n",
       "\n",
       "    .dataframe thead th {\n",
       "        text-align: right;\n",
       "    }\n",
       "</style>\n",
       "<table border=\"1\" class=\"dataframe\">\n",
       "  <thead>\n",
       "    <tr style=\"text-align: right;\">\n",
       "      <th></th>\n",
       "      <th>X</th>\n",
       "      <th>Y</th>\n",
       "    </tr>\n",
       "  </thead>\n",
       "  <tbody>\n",
       "    <tr>\n",
       "      <th>0</th>\n",
       "      <td>1.044026</td>\n",
       "      <td>5.557234</td>\n",
       "    </tr>\n",
       "    <tr>\n",
       "      <th>1</th>\n",
       "      <td>1.688652</td>\n",
       "      <td>6.395248</td>\n",
       "    </tr>\n",
       "    <tr>\n",
       "      <th>2</th>\n",
       "      <td>0.736298</td>\n",
       "      <td>5.157187</td>\n",
       "    </tr>\n",
       "    <tr>\n",
       "      <th>3</th>\n",
       "      <td>0.156702</td>\n",
       "      <td>4.403713</td>\n",
       "    </tr>\n",
       "    <tr>\n",
       "      <th>4</th>\n",
       "      <td>-0.672744</td>\n",
       "      <td>3.325433</td>\n",
       "    </tr>\n",
       "  </tbody>\n",
       "</table>\n",
       "</div>"
      ],
      "text/plain": [
       "          X         Y\n",
       "0  1.044026  5.557234\n",
       "1  1.688652  6.395248\n",
       "2  0.736298  5.157187\n",
       "3  0.156702  4.403713\n",
       "4 -0.672744  3.325433"
      ]
     },
     "execution_count": 63,
     "metadata": {},
     "output_type": "execute_result"
    }
   ],
   "source": [
    "df_data = pd.DataFrame({'X': np.random.normal(size=100)})\n",
    "\n",
    "df_data['Y'] = 1.3 * df_data['X'] + 4.2\n",
    "\n",
    "df_data.head()"
   ]
  },
  {
   "cell_type": "code",
   "execution_count": 64,
   "id": "precise-imaging",
   "metadata": {
    "tags": []
   },
   "outputs": [],
   "source": [
    "mod = smf.ols('Y ~ X', data=df_data)\n",
    "res = mod.fit()"
   ]
  },
  {
   "cell_type": "code",
   "execution_count": 65,
   "id": "linear-costa",
   "metadata": {
    "tags": []
   },
   "outputs": [
    {
     "data": {
      "text/plain": [
       "Intercept    4.2\n",
       "X            1.3\n",
       "dtype: float64"
      ]
     },
     "execution_count": 65,
     "metadata": {},
     "output_type": "execute_result"
    }
   ],
   "source": [
    "res.params"
   ]
  },
  {
   "cell_type": "code",
   "execution_count": 66,
   "id": "welcome-madison",
   "metadata": {
    "tags": []
   },
   "outputs": [
    {
     "data": {
      "text/html": [
       "<table class=\"simpletable\">\n",
       "<tr>\n",
       "      <td></td>         <th>coef</th>     <th>std err</th>      <th>t</th>      <th>P>|t|</th>  <th>[0.025</th>    <th>0.975]</th>  \n",
       "</tr>\n",
       "<tr>\n",
       "  <th>Intercept</th> <td>    4.2000</td> <td> 1.07e-16</td> <td> 3.92e+16</td> <td> 0.000</td> <td>    4.200</td> <td>    4.200</td>\n",
       "</tr>\n",
       "<tr>\n",
       "  <th>X</th>         <td>    1.3000</td> <td> 9.69e-17</td> <td> 1.34e+16</td> <td> 0.000</td> <td>    1.300</td> <td>    1.300</td>\n",
       "</tr>\n",
       "</table>"
      ],
      "text/plain": [
       "<class 'statsmodels.iolib.table.SimpleTable'>"
      ]
     },
     "execution_count": 66,
     "metadata": {},
     "output_type": "execute_result"
    }
   ],
   "source": [
    "res.summary().tables[1]"
   ]
  },
  {
   "cell_type": "markdown",
   "id": "urban-generation",
   "metadata": {
    "tags": []
   },
   "source": [
    "#### Pingouin\n",
    "\n",
    "[Pingouin](https://github.com/raphaelvallat/pingouin) provides additional statistical methods."
   ]
  },
  {
   "cell_type": "code",
   "execution_count": 67,
   "id": "gorgeous-mexico",
   "metadata": {
    "tags": []
   },
   "outputs": [],
   "source": [
    "import pingouin as pg"
   ]
  },
  {
   "cell_type": "code",
   "execution_count": 68,
   "id": "proud-dominican",
   "metadata": {
    "tags": []
   },
   "outputs": [
    {
     "data": {
      "text/html": [
       "<div>\n",
       "<style scoped>\n",
       "    .dataframe tbody tr th:only-of-type {\n",
       "        vertical-align: middle;\n",
       "    }\n",
       "\n",
       "    .dataframe tbody tr th {\n",
       "        vertical-align: top;\n",
       "    }\n",
       "\n",
       "    .dataframe thead th {\n",
       "        text-align: right;\n",
       "    }\n",
       "</style>\n",
       "<table border=\"1\" class=\"dataframe\">\n",
       "  <thead>\n",
       "    <tr style=\"text-align: right;\">\n",
       "      <th></th>\n",
       "      <th>W</th>\n",
       "      <th>pval</th>\n",
       "      <th>normal</th>\n",
       "    </tr>\n",
       "  </thead>\n",
       "  <tbody>\n",
       "    <tr>\n",
       "      <th>0</th>\n",
       "      <td>0.987726</td>\n",
       "      <td>0.488248</td>\n",
       "      <td>True</td>\n",
       "    </tr>\n",
       "  </tbody>\n",
       "</table>\n",
       "</div>"
      ],
      "text/plain": [
       "          W      pval  normal\n",
       "0  0.987726  0.488248    True"
      ]
     },
     "execution_count": 68,
     "metadata": {},
     "output_type": "execute_result"
    }
   ],
   "source": [
    "pg.normality(np.random.normal(size=100))"
   ]
  },
  {
   "cell_type": "code",
   "execution_count": 69,
   "id": "descending-carter",
   "metadata": {
    "tags": []
   },
   "outputs": [
    {
     "name": "stderr",
     "output_type": "stream",
     "text": [
      "/Users/kimja/.pyenv/versions/3.8.6/lib/python3.8/site-packages/outdated/utils.py:14: OutdatedPackageWarning: The package outdated is out of date. Your version is 0.2.0, the latest is 0.2.1.\n",
      "Set the environment variable OUTDATED_IGNORE=1 to disable these warnings.\n",
      "/Users/kimja/.pyenv/versions/3.8.6/lib/python3.8/site-packages/outdated/utils.py:14: OutdatedPackageWarning: The package pingouin is out of date. Your version is 0.3.9, the latest is 0.3.11.\n",
      "Set the environment variable OUTDATED_IGNORE=1 to disable these warnings.\n"
     ]
    },
    {
     "data": {
      "text/html": [
       "<div>\n",
       "<style scoped>\n",
       "    .dataframe tbody tr th:only-of-type {\n",
       "        vertical-align: middle;\n",
       "    }\n",
       "\n",
       "    .dataframe tbody tr th {\n",
       "        vertical-align: top;\n",
       "    }\n",
       "\n",
       "    .dataframe thead th {\n",
       "        text-align: right;\n",
       "    }\n",
       "</style>\n",
       "<table border=\"1\" class=\"dataframe\">\n",
       "  <thead>\n",
       "    <tr style=\"text-align: right;\">\n",
       "      <th></th>\n",
       "      <th>W</th>\n",
       "      <th>pval</th>\n",
       "      <th>normal</th>\n",
       "    </tr>\n",
       "  </thead>\n",
       "  <tbody>\n",
       "    <tr>\n",
       "      <th>0</th>\n",
       "      <td>0.954197</td>\n",
       "      <td>0.001585</td>\n",
       "      <td>False</td>\n",
       "    </tr>\n",
       "  </tbody>\n",
       "</table>\n",
       "</div>"
      ],
      "text/plain": [
       "          W      pval  normal\n",
       "0  0.954197  0.001585   False"
      ]
     },
     "execution_count": 69,
     "metadata": {},
     "output_type": "execute_result"
    }
   ],
   "source": [
    "pg.normality(np.random.uniform(size=100))"
   ]
  },
  {
   "cell_type": "markdown",
   "id": "constant-furniture",
   "metadata": {
    "tags": []
   },
   "source": [
    "#### Scitkit-learn\n",
    "\n",
    "[Scikit-learn](https://github.com/scikit-learn/scikit-learn) facilitates machine learning in Python."
   ]
  },
  {
   "cell_type": "code",
   "execution_count": 70,
   "id": "serial-milwaukee",
   "metadata": {
    "tags": []
   },
   "outputs": [],
   "source": [
    "from sklearn import svm\n",
    "from sklearn import datasets\n",
    "from sklearn.model_selection import train_test_split"
   ]
  },
  {
   "cell_type": "code",
   "execution_count": 71,
   "id": "passive-tension",
   "metadata": {
    "tags": []
   },
   "outputs": [
    {
     "data": {
      "text/plain": [
       "((150, 4), (150,))"
      ]
     },
     "execution_count": 71,
     "metadata": {},
     "output_type": "execute_result"
    }
   ],
   "source": [
    "X, y = datasets.load_iris(return_X_y=True)\n",
    "X.shape, y.shape"
   ]
  },
  {
   "cell_type": "code",
   "execution_count": 72,
   "id": "lyric-airport",
   "metadata": {
    "tags": []
   },
   "outputs": [],
   "source": [
    "X_train, X_test, y_train, y_test = train_test_split(X, y, test_size=0.4, random_state=0)"
   ]
  },
  {
   "cell_type": "code",
   "execution_count": 73,
   "id": "binary-register",
   "metadata": {
    "tags": []
   },
   "outputs": [
    {
     "data": {
      "text/plain": [
       "0.9666666666666667"
      ]
     },
     "execution_count": 73,
     "metadata": {},
     "output_type": "execute_result"
    }
   ],
   "source": [
    "clf = svm.SVC(kernel='linear', C=1).fit(X_train, y_train)\n",
    "clf.score(X_test, y_test)"
   ]
  },
  {
   "cell_type": "markdown",
   "id": "capital-gravity",
   "metadata": {
    "tags": []
   },
   "source": [
    "Scikit-learn offers various plugins which deal with common issues encountered while modeling."
   ]
  },
  {
   "cell_type": "markdown",
   "id": "aerial-neighborhood",
   "metadata": {
    "tags": []
   },
   "source": [
    "[Imbalanced-learn](https://github.com/scikit-learn-contrib/imbalanced-learn) provides various re-sampling techniques when the dataset has annoying class imbalances."
   ]
  },
  {
   "cell_type": "code",
   "execution_count": 74,
   "id": "ruled-queensland",
   "metadata": {
    "tags": []
   },
   "outputs": [],
   "source": [
    "import collections\n",
    "\n",
    "from imblearn.over_sampling import RandomOverSampler"
   ]
  },
  {
   "cell_type": "code",
   "execution_count": 75,
   "id": "postal-ivory",
   "metadata": {
    "tags": []
   },
   "outputs": [],
   "source": [
    "ros = RandomOverSampler(random_state=0)"
   ]
  },
  {
   "cell_type": "code",
   "execution_count": 76,
   "id": "deluxe-tyler",
   "metadata": {
    "tags": []
   },
   "outputs": [],
   "source": [
    "X_sub, y_sub = X[:60, :], y[:60]\n",
    "X_resampled, y_resampled = ros.fit_resample(X_sub, y_sub)"
   ]
  },
  {
   "cell_type": "code",
   "execution_count": 77,
   "id": "french-pendant",
   "metadata": {
    "tags": []
   },
   "outputs": [
    {
     "name": "stdout",
     "output_type": "stream",
     "text": [
      "sub: [(0, 50), (1, 10)]\n",
      "resampled: [(0, 50), (1, 50)]\n"
     ]
    }
   ],
   "source": [
    "print('sub:', sorted(collections.Counter(y_sub).items()))\n",
    "print('resampled:', sorted(collections.Counter(y_resampled).items()))"
   ]
  },
  {
   "cell_type": "markdown",
   "id": "amber-practice",
   "metadata": {
    "tags": []
   },
   "source": [
    "[Category_encoders](https://github.com/scikit-learn-contrib/category_encoders) helps with converting categorical variables to numerical ones."
   ]
  },
  {
   "cell_type": "code",
   "execution_count": 78,
   "id": "comfortable-poison",
   "metadata": {
    "tags": []
   },
   "outputs": [],
   "source": [
    "import category_encoders"
   ]
  },
  {
   "cell_type": "code",
   "execution_count": 79,
   "id": "mature-experience",
   "metadata": {
    "tags": []
   },
   "outputs": [
    {
     "data": {
      "text/html": [
       "<div>\n",
       "<style scoped>\n",
       "    .dataframe tbody tr th:only-of-type {\n",
       "        vertical-align: middle;\n",
       "    }\n",
       "\n",
       "    .dataframe tbody tr th {\n",
       "        vertical-align: top;\n",
       "    }\n",
       "\n",
       "    .dataframe thead th {\n",
       "        text-align: right;\n",
       "    }\n",
       "</style>\n",
       "<table border=\"1\" class=\"dataframe\">\n",
       "  <thead>\n",
       "    <tr style=\"text-align: right;\">\n",
       "      <th></th>\n",
       "      <th>original_class</th>\n",
       "      <th>feature01</th>\n",
       "    </tr>\n",
       "  </thead>\n",
       "  <tbody>\n",
       "    <tr>\n",
       "      <th>0</th>\n",
       "      <td>A</td>\n",
       "      <td>A</td>\n",
       "    </tr>\n",
       "    <tr>\n",
       "      <th>1</th>\n",
       "      <td>B</td>\n",
       "      <td>B</td>\n",
       "    </tr>\n",
       "    <tr>\n",
       "      <th>2</th>\n",
       "      <td>A</td>\n",
       "      <td>A</td>\n",
       "    </tr>\n",
       "    <tr>\n",
       "      <th>3</th>\n",
       "      <td>A</td>\n",
       "      <td>A</td>\n",
       "    </tr>\n",
       "    <tr>\n",
       "      <th>4</th>\n",
       "      <td>B</td>\n",
       "      <td>B</td>\n",
       "    </tr>\n",
       "  </tbody>\n",
       "</table>\n",
       "</div>"
      ],
      "text/plain": [
       "  original_class feature01\n",
       "0              A         A\n",
       "1              B         B\n",
       "2              A         A\n",
       "3              A         A\n",
       "4              B         B"
      ]
     },
     "execution_count": 79,
     "metadata": {},
     "output_type": "execute_result"
    }
   ],
   "source": [
    "tmp = np.random.choice(['A', 'B'], size=10)\n",
    "df_cat = pd.DataFrame({'original_class': tmp, 'feature01': tmp})\n",
    "df_cat.head()"
   ]
  },
  {
   "cell_type": "code",
   "execution_count": 80,
   "id": "alpine-clearing",
   "metadata": {
    "tags": []
   },
   "outputs": [
    {
     "data": {
      "text/html": [
       "<div>\n",
       "<style scoped>\n",
       "    .dataframe tbody tr th:only-of-type {\n",
       "        vertical-align: middle;\n",
       "    }\n",
       "\n",
       "    .dataframe tbody tr th {\n",
       "        vertical-align: top;\n",
       "    }\n",
       "\n",
       "    .dataframe thead th {\n",
       "        text-align: right;\n",
       "    }\n",
       "</style>\n",
       "<table border=\"1\" class=\"dataframe\">\n",
       "  <thead>\n",
       "    <tr style=\"text-align: right;\">\n",
       "      <th></th>\n",
       "      <th>original_class</th>\n",
       "      <th>feature01_1</th>\n",
       "      <th>feature01_2</th>\n",
       "    </tr>\n",
       "  </thead>\n",
       "  <tbody>\n",
       "    <tr>\n",
       "      <th>0</th>\n",
       "      <td>A</td>\n",
       "      <td>1</td>\n",
       "      <td>0</td>\n",
       "    </tr>\n",
       "    <tr>\n",
       "      <th>1</th>\n",
       "      <td>B</td>\n",
       "      <td>0</td>\n",
       "      <td>1</td>\n",
       "    </tr>\n",
       "    <tr>\n",
       "      <th>2</th>\n",
       "      <td>A</td>\n",
       "      <td>1</td>\n",
       "      <td>0</td>\n",
       "    </tr>\n",
       "    <tr>\n",
       "      <th>3</th>\n",
       "      <td>A</td>\n",
       "      <td>1</td>\n",
       "      <td>0</td>\n",
       "    </tr>\n",
       "    <tr>\n",
       "      <th>4</th>\n",
       "      <td>B</td>\n",
       "      <td>0</td>\n",
       "      <td>1</td>\n",
       "    </tr>\n",
       "    <tr>\n",
       "      <th>5</th>\n",
       "      <td>B</td>\n",
       "      <td>0</td>\n",
       "      <td>1</td>\n",
       "    </tr>\n",
       "    <tr>\n",
       "      <th>6</th>\n",
       "      <td>A</td>\n",
       "      <td>1</td>\n",
       "      <td>0</td>\n",
       "    </tr>\n",
       "    <tr>\n",
       "      <th>7</th>\n",
       "      <td>B</td>\n",
       "      <td>0</td>\n",
       "      <td>1</td>\n",
       "    </tr>\n",
       "    <tr>\n",
       "      <th>8</th>\n",
       "      <td>B</td>\n",
       "      <td>0</td>\n",
       "      <td>1</td>\n",
       "    </tr>\n",
       "    <tr>\n",
       "      <th>9</th>\n",
       "      <td>A</td>\n",
       "      <td>1</td>\n",
       "      <td>0</td>\n",
       "    </tr>\n",
       "  </tbody>\n",
       "</table>\n",
       "</div>"
      ],
      "text/plain": [
       "  original_class  feature01_1  feature01_2\n",
       "0              A            1            0\n",
       "1              B            0            1\n",
       "2              A            1            0\n",
       "3              A            1            0\n",
       "4              B            0            1\n",
       "5              B            0            1\n",
       "6              A            1            0\n",
       "7              B            0            1\n",
       "8              B            0            1\n",
       "9              A            1            0"
      ]
     },
     "execution_count": 80,
     "metadata": {},
     "output_type": "execute_result"
    }
   ],
   "source": [
    "category_encoders.OneHotEncoder(cols=['feature01']).fit_transform(df_cat)"
   ]
  },
  {
   "cell_type": "markdown",
   "id": "ordinary-ladder",
   "metadata": {
    "tags": []
   },
   "source": [
    "[Yellowbrick](https://github.com/DistrictDataLabs/yellowbrick) makes a multitude of visual diagnostic tools readily accessible."
   ]
  },
  {
   "cell_type": "code",
   "execution_count": 81,
   "id": "opening-cardiff",
   "metadata": {
    "tags": []
   },
   "outputs": [],
   "source": [
    "from yellowbrick.classifier import ROCAUC"
   ]
  },
  {
   "cell_type": "code",
   "execution_count": 82,
   "id": "willing-adjustment",
   "metadata": {
    "tags": []
   },
   "outputs": [
    {
     "data": {
      "text/plain": [
       "SVC(C=1, kernel='linear')"
      ]
     },
     "execution_count": 82,
     "metadata": {},
     "output_type": "execute_result"
    }
   ],
   "source": [
    "clf.fit(X, y)"
   ]
  },
  {
   "cell_type": "code",
   "execution_count": 83,
   "id": "young-beaver",
   "metadata": {
    "tags": []
   },
   "outputs": [
    {
     "data": {
      "image/png": "[encoded data removed]",
      "text/plain": [
       "<Figure size 576x396 with 1 Axes>"
      ]
     },
     "metadata": {},
     "output_type": "display_data"
    },
    {
     "data": {
      "text/plain": [
       "<AxesSubplot:title={'center':'ROC Curves for SVC'}, xlabel='False Positive Rate', ylabel='True Positive Rate'>"
      ]
     },
     "execution_count": 83,
     "metadata": {},
     "output_type": "execute_result"
    }
   ],
   "source": [
    "visualizer = ROCAUC(clf)\n",
    "# visualizer.score(X, y)  # TODO: uncomment once scikit-learn is fixed\n",
    "visualizer.show()"
   ]
  },
  {
   "cell_type": "markdown",
   "id": "desirable-notification",
   "metadata": {
    "tags": []
   },
   "source": [
    "## Language Bindings"
   ]
  },
  {
   "cell_type": "markdown",
   "id": "touched-retirement",
   "metadata": {
    "tags": []
   },
   "source": [
    "### Pybind11\n",
    "\n",
    "[Pybind11](https://github.com/pybind/pybind11) makes writing bindings between Python and C++ enjoyable. In combination with [cppimport](https://github.com/tbenthompson/cppimport) some might even call it fun.\n",
    "It is possible to implement [custom typecasters](https://pybind11.readthedocs.io/en/stable/advanced/cast/custom.html) to support bindings for arbitrary objects."
   ]
  },
  {
   "cell_type": "code",
   "execution_count": 84,
   "id": "confident-handy",
   "metadata": {
    "tags": []
   },
   "outputs": [
    {
     "name": "stdout",
     "output_type": "stream",
     "text": [
      "Overwriting cpp_source.cpp\n"
     ]
    }
   ],
   "source": [
    "%%writefile cpp_source.cpp\n",
    "\n",
    "#include <pybind11/pybind11.h>\n",
    "\n",
    "namespace py = pybind11;\n",
    "\n",
    "\n",
    "int square(int x) {\n",
    "    return x * x;\n",
    "}\n",
    "\n",
    "PYBIND11_MODULE(cpp_source, m) {\n",
    "    m.def(\n",
    "        \"square\", &square,\n",
    "        py::arg(\"x\") = 1\n",
    "    );\n",
    "}\n",
    "\n",
    "/*\n",
    "<%\n",
    "setup_pybind11(cfg)\n",
    "cfg['compiler_args'] = ['-std=c++11']\n",
    "%>\n",
    "*/"
   ]
  },
  {
   "cell_type": "code",
   "execution_count": 85,
   "id": "criminal-realtor",
   "metadata": {
    "tags": []
   },
   "outputs": [],
   "source": [
    "import cppimport"
   ]
  },
  {
   "cell_type": "code",
   "execution_count": 86,
   "id": "developing-density",
   "metadata": {
    "tags": []
   },
   "outputs": [],
   "source": [
    "cpp_source = cppimport.imp('cpp_source')"
   ]
  },
  {
   "cell_type": "code",
   "execution_count": 87,
   "id": "sweet-corner",
   "metadata": {
    "tags": []
   },
   "outputs": [
    {
     "data": {
      "text/plain": [
       "25"
      ]
     },
     "execution_count": 87,
     "metadata": {},
     "output_type": "execute_result"
    }
   ],
   "source": [
    "cpp_source.square(5)"
   ]
  },
  {
   "cell_type": "markdown",
   "id": "indie-uzbekistan",
   "metadata": {
    "tags": []
   },
   "source": [
    "## Jupyter"
   ]
  },
  {
   "cell_type": "markdown",
   "id": "ranking-branch",
   "metadata": {
    "tags": []
   },
   "source": [
    "### Nbstripout\n",
    "\n",
    "Commiting Jupyter notebooks to CVS (e.g. git) can be annoying due to non-code properties being saved.\n",
    "[Nbstripout](https://github.com/kynan/nbstripout) strips all of those away and can be run automatically for each committed notebook by executing `nbstripout --install` once."
   ]
  },
  {
   "cell_type": "markdown",
   "id": "southeast-symposium",
   "metadata": {
    "tags": []
   },
   "source": [
    "## ToDo\n",
    "\n",
    "* Validate your config files using [schemas](https://github.com/Julian/jsonschema/).\n",
    "* Design your pipelines using [Snakemake](https://bitbucket.org/snakemake/snakemake).\n",
    "* moviepy\n",
    "* https://github.com/tqdm/tqdm\n",
    "* https://github.com/pyca/cryptography\n",
    "* https://github.com/jmoiron/humanize\n",
    "* numba\n",
    "* pythran\n",
    "* https://github.com/cloudpipe/cloudpickle\n",
    "* jupytext\n",
    "* dfply(/plydata)\n",
    "* tensorflow\n",
    "* filprofiler\n",
    "* https://github.com/mitmproxy/mitmproxy\n",
    "* https://github.com/secdev/scapy\n",
    "* https://github.com/emeryberger/scalene\n",
    "* https://github.com/willmcgugan/rich\n",
    "* https://github.com/joerick/pyinstrument\n",
    "* https://github.com/nalepae/pandarallel/\n",
    "* https://github.com/pydata/pandas-datareader\n",
    "* https://github.com/machow/siuba"
   ]
  }
 ],
 "metadata": {
  "kernelspec": {
   "display_name": "Python 3",
   "language": "python",
   "name": "python3"
  },
  "language_info": {
   "codemirror_mode": {
    "name": "ipython",
    "version": 3
   },
   "file_extension": ".py",
   "mimetype": "text/x-python",
   "name": "python",
   "nbconvert_exporter": "python",
   "pygments_lexer": "ipython3",
   "version": "3.8.6"
  },
  "toc-autonumbering": true
 },
 "nbformat": 4,
 "nbformat_minor": 5
}
